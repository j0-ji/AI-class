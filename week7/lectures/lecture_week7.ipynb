{
 "cells": [
  {
   "cell_type": "markdown",
   "id": "92cc9b36-49b5-482a-a2a6-9bca2d365429",
   "metadata": {},
   "source": [
    "# Linear Regression"
   ]
  },
  {
   "cell_type": "code",
   "execution_count": 23,
   "id": "95aed787-0c8b-4059-bddb-a87923cb6399",
   "metadata": {},
   "outputs": [],
   "source": [
    "import numpy as np\n",
    "\n",
    "import pandas as pd\n",
    "pd.set_option(\"mode.copy_on_write\", True)\n",
    "\n",
    "import copy\n",
    "import matplotlib.pyplot as plt"
   ]
  },
  {
   "cell_type": "markdown",
   "id": "b6958f05-c26d-4a1c-a352-6032ebf0442e",
   "metadata": {},
   "source": [
    "## Linear relationship"
   ]
  },
  {
   "cell_type": "markdown",
   "id": "1dd345f3-8fb7-4b57-8080-fb1c9ee0a831",
   "metadata": {},
   "source": [
    "In a lab, different weights are hung from a spring. The extension of the spring is measured each time. \n",
    "\n",
    "According to **Hooke’s Law**:  \n",
    "$$\n",
    "F = kx \\Rightarrow x = \\frac{F}{k}\n",
    "$$\n",
    "\n",
    "Where:\n",
    "\n",
    "- $ F $: force applied (in Newtons)  \n",
    "- $ x $: spring extension (in meters)  \n",
    "- $ k $: spring constant (N/m)  \n",
    "\n",
    "Assume some experimental noise to simulate a real-world scenario.\n"
   ]
  },
  {
   "cell_type": "markdown",
   "id": "303e0ed1-073d-4c74-b2f7-4f74cd22dddb",
   "metadata": {},
   "source": [
    "### Data Simulation\n",
    "Usually you would use here real measurement data"
   ]
  },
  {
   "cell_type": "code",
   "execution_count": 24,
   "id": "f1291be8-4a9e-457b-9143-4b2479bae548",
   "metadata": {},
   "outputs": [
    {
     "data": {
      "text/html": [
       "<div>\n",
       "<style scoped>\n",
       "    .dataframe tbody tr th:only-of-type {\n",
       "        vertical-align: middle;\n",
       "    }\n",
       "\n",
       "    .dataframe tbody tr th {\n",
       "        vertical-align: top;\n",
       "    }\n",
       "\n",
       "    .dataframe thead th {\n",
       "        text-align: right;\n",
       "    }\n",
       "</style>\n",
       "<table border=\"1\" class=\"dataframe\">\n",
       "  <thead>\n",
       "    <tr style=\"text-align: right;\">\n",
       "      <th></th>\n",
       "      <th>Force_N</th>\n",
       "      <th>Extension_cm</th>\n",
       "    </tr>\n",
       "  </thead>\n",
       "  <tbody>\n",
       "    <tr>\n",
       "      <th>0</th>\n",
       "      <td>1.0</td>\n",
       "      <td>0.070691</td>\n",
       "    </tr>\n",
       "    <tr>\n",
       "      <th>1</th>\n",
       "      <td>1.5</td>\n",
       "      <td>0.304709</td>\n",
       "    </tr>\n",
       "    <tr>\n",
       "      <th>2</th>\n",
       "      <td>2.0</td>\n",
       "      <td>0.391662</td>\n",
       "    </tr>\n",
       "    <tr>\n",
       "      <th>3</th>\n",
       "      <td>2.5</td>\n",
       "      <td>0.555749</td>\n",
       "    </tr>\n",
       "    <tr>\n",
       "      <th>4</th>\n",
       "      <td>3.0</td>\n",
       "      <td>0.487549</td>\n",
       "    </tr>\n",
       "  </tbody>\n",
       "</table>\n",
       "</div>"
      ],
      "text/plain": [
       "   Force_N  Extension_cm\n",
       "0      1.0      0.070691\n",
       "1      1.5      0.304709\n",
       "2      2.0      0.391662\n",
       "3      2.5      0.555749\n",
       "4      3.0      0.487549"
      ]
     },
     "execution_count": 24,
     "metadata": {},
     "output_type": "execute_result"
    }
   ],
   "source": [
    "np.random.seed(42)  # for reproducibility\n",
    "\n",
    "spring_constant = np.random.rand(1)*4 + 4\n",
    "\n",
    "forces = np.arange(1, 11, 0.5)\n",
    "true_extensions = forces / spring_constant\n",
    "\n",
    "noise = np.random.normal(0, 0.1, forces.shape)\n",
    "measured_extensions = true_extensions + noise\n",
    "\n",
    "# Create DataFrame for reference\n",
    "df = pd.DataFrame({\n",
    "    'Force_N': forces,\n",
    "    'Extension_cm': measured_extensions\n",
    "})\n",
    "df.head()"
   ]
  },
  {
   "cell_type": "code",
   "execution_count": 25,
   "id": "2374cf3e-498c-4d8f-9929-0c92d136a69a",
   "metadata": {},
   "outputs": [
    {
     "data": {
      "text/plain": [
       "Text(0.5, 0, 'Force [N]')"
      ]
     },
     "execution_count": 25,
     "metadata": {},
     "output_type": "execute_result"
    },
    {
     "data": {
      "image/png": "[encoded data removed]",
      "text/plain": [
       "<Figure size 300x300 with 1 Axes>"
      ]
     },
     "metadata": {},
     "output_type": "display_data"
    }
   ],
   "source": [
    "fig, ax = plt.subplots(1,1, figsize=(3,3)) \n",
    "\n",
    "ax.scatter(\n",
    "    df['Force_N'], \n",
    "    df['Extension_cm'],\n",
    "    label='Measurement'\n",
    ")\n",
    "\n",
    "ax.set_ylabel('Extension [cm]')\n",
    "ax.set_xlabel('Force [N]')"
   ]
  },
  {
   "cell_type": "markdown",
   "id": "bea850fc-64c3-4590-ac89-501a71050b4c",
   "metadata": {},
   "source": [
    "### Fit Linear Regression Model"
   ]
  },
  {
   "cell_type": "code",
   "execution_count": 28,
   "id": "8f0dc115-31b7-441b-84b7-3f2e32b938a6",
   "metadata": {},
   "outputs": [],
   "source": [
    "from sklearn.linear_model import LinearRegression"
   ]
  },
  {
   "cell_type": "code",
   "execution_count": 29,
   "id": "2caafe9c-1a65-4d69-a771-38b726bc94fd",
   "metadata": {},
   "outputs": [
    {
     "data": {
      "text/html": [
       "<style>#sk-container-id-2 {\n",
       "  /* Definition of color scheme common for light and dark mode */\n",
       "  --sklearn-color-text: black;\n",
       "  --sklearn-color-line: gray;\n",
       "  /* Definition of color scheme for unfitted estimators */\n",
       "  --sklearn-color-unfitted-level-0: #fff5e6;\n",
       "  --sklearn-color-unfitted-level-1: #f6e4d2;\n",
       "  --sklearn-color-unfitted-level-2: #ffe0b3;\n",
       "  --sklearn-color-unfitted-level-3: chocolate;\n",
       "  /* Definition of color scheme for fitted estimators */\n",
       "  --sklearn-color-fitted-level-0: #f0f8ff;\n",
       "  --sklearn-color-fitted-level-1: #d4ebff;\n",
       "  --sklearn-color-fitted-level-2: #b3dbfd;\n",
       "  --sklearn-color-fitted-level-3: cornflowerblue;\n",
       "\n",
       "  /* Specific color for light theme */\n",
       "  --sklearn-color-text-on-default-background: var(--sg-text-color, var(--theme-code-foreground, var(--jp-content-font-color1, black)));\n",
       "  --sklearn-color-background: var(--sg-background-color, var(--theme-background, var(--jp-layout-color0, white)));\n",
       "  --sklearn-color-border-box: var(--sg-text-color, var(--theme-code-foreground, var(--jp-content-font-color1, black)));\n",
       "  --sklearn-color-icon: #696969;\n",
       "\n",
       "  @media (prefers-color-scheme: dark) {\n",
       "    /* Redefinition of color scheme for dark theme */\n",
       "    --sklearn-color-text-on-default-background: var(--sg-text-color, var(--theme-code-foreground, var(--jp-content-font-color1, white)));\n",
       "    --sklearn-color-background: var(--sg-background-color, var(--theme-background, var(--jp-layout-color0, #111)));\n",
       "    --sklearn-color-border-box: var(--sg-text-color, var(--theme-code-foreground, var(--jp-content-font-color1, white)));\n",
       "    --sklearn-color-icon: #878787;\n",
       "  }\n",
       "}\n",
       "\n",
       "#sk-container-id-2 {\n",
       "  color: var(--sklearn-color-text);\n",
       "}\n",
       "\n",
       "#sk-container-id-2 pre {\n",
       "  padding: 0;\n",
       "}\n",
       "\n",
       "#sk-container-id-2 input.sk-hidden--visually {\n",
       "  border: 0;\n",
       "  clip: rect(1px 1px 1px 1px);\n",
       "  clip: rect(1px, 1px, 1px, 1px);\n",
       "  height: 1px;\n",
       "  margin: -1px;\n",
       "  overflow: hidden;\n",
       "  padding: 0;\n",
       "  position: absolute;\n",
       "  width: 1px;\n",
       "}\n",
       "\n",
       "#sk-container-id-2 div.sk-dashed-wrapped {\n",
       "  border: 1px dashed var(--sklearn-color-line);\n",
       "  margin: 0 0.4em 0.5em 0.4em;\n",
       "  box-sizing: border-box;\n",
       "  padding-bottom: 0.4em;\n",
       "  background-color: var(--sklearn-color-background);\n",
       "}\n",
       "\n",
       "#sk-container-id-2 div.sk-container {\n",
       "  /* jupyter's `normalize.less` sets `[hidden] { display: none; }`\n",
       "     but bootstrap.min.css set `[hidden] { display: none !important; }`\n",
       "     so we also need the `!important` here to be able to override the\n",
       "     default hidden behavior on the sphinx rendered scikit-learn.org.\n",
       "     See: https://github.com/scikit-learn/scikit-learn/issues/21755 */\n",
       "  display: inline-block !important;\n",
       "  position: relative;\n",
       "}\n",
       "\n",
       "#sk-container-id-2 div.sk-text-repr-fallback {\n",
       "  display: none;\n",
       "}\n",
       "\n",
       "div.sk-parallel-item,\n",
       "div.sk-serial,\n",
       "div.sk-item {\n",
       "  /* draw centered vertical line to link estimators */\n",
       "  background-image: linear-gradient(var(--sklearn-color-text-on-default-background), var(--sklearn-color-text-on-default-background));\n",
       "  background-size: 2px 100%;\n",
       "  background-repeat: no-repeat;\n",
       "  background-position: center center;\n",
       "}\n",
       "\n",
       "/* Parallel-specific style estimator block */\n",
       "\n",
       "#sk-container-id-2 div.sk-parallel-item::after {\n",
       "  content: \"\";\n",
       "  width: 100%;\n",
       "  border-bottom: 2px solid var(--sklearn-color-text-on-default-background);\n",
       "  flex-grow: 1;\n",
       "}\n",
       "\n",
       "#sk-container-id-2 div.sk-parallel {\n",
       "  display: flex;\n",
       "  align-items: stretch;\n",
       "  justify-content: center;\n",
       "  background-color: var(--sklearn-color-background);\n",
       "  position: relative;\n",
       "}\n",
       "\n",
       "#sk-container-id-2 div.sk-parallel-item {\n",
       "  display: flex;\n",
       "  flex-direction: column;\n",
       "}\n",
       "\n",
       "#sk-container-id-2 div.sk-parallel-item:first-child::after {\n",
       "  align-self: flex-end;\n",
       "  width: 50%;\n",
       "}\n",
       "\n",
       "#sk-container-id-2 div.sk-parallel-item:last-child::after {\n",
       "  align-self: flex-start;\n",
       "  width: 50%;\n",
       "}\n",
       "\n",
       "#sk-container-id-2 div.sk-parallel-item:only-child::after {\n",
       "  width: 0;\n",
       "}\n",
       "\n",
       "/* Serial-specific style estimator block */\n",
       "\n",
       "#sk-container-id-2 div.sk-serial {\n",
       "  display: flex;\n",
       "  flex-direction: column;\n",
       "  align-items: center;\n",
       "  background-color: var(--sklearn-color-background);\n",
       "  padding-right: 1em;\n",
       "  padding-left: 1em;\n",
       "}\n",
       "\n",
       "\n",
       "/* Toggleable style: style used for estimator/Pipeline/ColumnTransformer box that is\n",
       "clickable and can be expanded/collapsed.\n",
       "- Pipeline and ColumnTransformer use this feature and define the default style\n",
       "- Estimators will overwrite some part of the style using the `sk-estimator` class\n",
       "*/\n",
       "\n",
       "/* Pipeline and ColumnTransformer style (default) */\n",
       "\n",
       "#sk-container-id-2 div.sk-toggleable {\n",
       "  /* Default theme specific background. It is overwritten whether we have a\n",
       "  specific estimator or a Pipeline/ColumnTransformer */\n",
       "  background-color: var(--sklearn-color-background);\n",
       "}\n",
       "\n",
       "/* Toggleable label */\n",
       "#sk-container-id-2 label.sk-toggleable__label {\n",
       "  cursor: pointer;\n",
       "  display: block;\n",
       "  width: 100%;\n",
       "  margin-bottom: 0;\n",
       "  padding: 0.5em;\n",
       "  box-sizing: border-box;\n",
       "  text-align: center;\n",
       "}\n",
       "\n",
       "#sk-container-id-2 label.sk-toggleable__label-arrow:before {\n",
       "  /* Arrow on the left of the label */\n",
       "  content: \"▸\";\n",
       "  float: left;\n",
       "  margin-right: 0.25em;\n",
       "  color: var(--sklearn-color-icon);\n",
       "}\n",
       "\n",
       "#sk-container-id-2 label.sk-toggleable__label-arrow:hover:before {\n",
       "  color: var(--sklearn-color-text);\n",
       "}\n",
       "\n",
       "/* Toggleable content - dropdown */\n",
       "\n",
       "#sk-container-id-2 div.sk-toggleable__content {\n",
       "  max-height: 0;\n",
       "  max-width: 0;\n",
       "  overflow: hidden;\n",
       "  text-align: left;\n",
       "  /* unfitted */\n",
       "  background-color: var(--sklearn-color-unfitted-level-0);\n",
       "}\n",
       "\n",
       "#sk-container-id-2 div.sk-toggleable__content.fitted {\n",
       "  /* fitted */\n",
       "  background-color: var(--sklearn-color-fitted-level-0);\n",
       "}\n",
       "\n",
       "#sk-container-id-2 div.sk-toggleable__content pre {\n",
       "  margin: 0.2em;\n",
       "  border-radius: 0.25em;\n",
       "  color: var(--sklearn-color-text);\n",
       "  /* unfitted */\n",
       "  background-color: var(--sklearn-color-unfitted-level-0);\n",
       "}\n",
       "\n",
       "#sk-container-id-2 div.sk-toggleable__content.fitted pre {\n",
       "  /* unfitted */\n",
       "  background-color: var(--sklearn-color-fitted-level-0);\n",
       "}\n",
       "\n",
       "#sk-container-id-2 input.sk-toggleable__control:checked~div.sk-toggleable__content {\n",
       "  /* Expand drop-down */\n",
       "  max-height: 200px;\n",
       "  max-width: 100%;\n",
       "  overflow: auto;\n",
       "}\n",
       "\n",
       "#sk-container-id-2 input.sk-toggleable__control:checked~label.sk-toggleable__label-arrow:before {\n",
       "  content: \"▾\";\n",
       "}\n",
       "\n",
       "/* Pipeline/ColumnTransformer-specific style */\n",
       "\n",
       "#sk-container-id-2 div.sk-label input.sk-toggleable__control:checked~label.sk-toggleable__label {\n",
       "  color: var(--sklearn-color-text);\n",
       "  background-color: var(--sklearn-color-unfitted-level-2);\n",
       "}\n",
       "\n",
       "#sk-container-id-2 div.sk-label.fitted input.sk-toggleable__control:checked~label.sk-toggleable__label {\n",
       "  background-color: var(--sklearn-color-fitted-level-2);\n",
       "}\n",
       "\n",
       "/* Estimator-specific style */\n",
       "\n",
       "/* Colorize estimator box */\n",
       "#sk-container-id-2 div.sk-estimator input.sk-toggleable__control:checked~label.sk-toggleable__label {\n",
       "  /* unfitted */\n",
       "  background-color: var(--sklearn-color-unfitted-level-2);\n",
       "}\n",
       "\n",
       "#sk-container-id-2 div.sk-estimator.fitted input.sk-toggleable__control:checked~label.sk-toggleable__label {\n",
       "  /* fitted */\n",
       "  background-color: var(--sklearn-color-fitted-level-2);\n",
       "}\n",
       "\n",
       "#sk-container-id-2 div.sk-label label.sk-toggleable__label,\n",
       "#sk-container-id-2 div.sk-label label {\n",
       "  /* The background is the default theme color */\n",
       "  color: var(--sklearn-color-text-on-default-background);\n",
       "}\n",
       "\n",
       "/* On hover, darken the color of the background */\n",
       "#sk-container-id-2 div.sk-label:hover label.sk-toggleable__label {\n",
       "  color: var(--sklearn-color-text);\n",
       "  background-color: var(--sklearn-color-unfitted-level-2);\n",
       "}\n",
       "\n",
       "/* Label box, darken color on hover, fitted */\n",
       "#sk-container-id-2 div.sk-label.fitted:hover label.sk-toggleable__label.fitted {\n",
       "  color: var(--sklearn-color-text);\n",
       "  background-color: var(--sklearn-color-fitted-level-2);\n",
       "}\n",
       "\n",
       "/* Estimator label */\n",
       "\n",
       "#sk-container-id-2 div.sk-label label {\n",
       "  font-family: monospace;\n",
       "  font-weight: bold;\n",
       "  display: inline-block;\n",
       "  line-height: 1.2em;\n",
       "}\n",
       "\n",
       "#sk-container-id-2 div.sk-label-container {\n",
       "  text-align: center;\n",
       "}\n",
       "\n",
       "/* Estimator-specific */\n",
       "#sk-container-id-2 div.sk-estimator {\n",
       "  font-family: monospace;\n",
       "  border: 1px dotted var(--sklearn-color-border-box);\n",
       "  border-radius: 0.25em;\n",
       "  box-sizing: border-box;\n",
       "  margin-bottom: 0.5em;\n",
       "  /* unfitted */\n",
       "  background-color: var(--sklearn-color-unfitted-level-0);\n",
       "}\n",
       "\n",
       "#sk-container-id-2 div.sk-estimator.fitted {\n",
       "  /* fitted */\n",
       "  background-color: var(--sklearn-color-fitted-level-0);\n",
       "}\n",
       "\n",
       "/* on hover */\n",
       "#sk-container-id-2 div.sk-estimator:hover {\n",
       "  /* unfitted */\n",
       "  background-color: var(--sklearn-color-unfitted-level-2);\n",
       "}\n",
       "\n",
       "#sk-container-id-2 div.sk-estimator.fitted:hover {\n",
       "  /* fitted */\n",
       "  background-color: var(--sklearn-color-fitted-level-2);\n",
       "}\n",
       "\n",
       "/* Specification for estimator info (e.g. \"i\" and \"?\") */\n",
       "\n",
       "/* Common style for \"i\" and \"?\" */\n",
       "\n",
       ".sk-estimator-doc-link,\n",
       "a:link.sk-estimator-doc-link,\n",
       "a:visited.sk-estimator-doc-link {\n",
       "  float: right;\n",
       "  font-size: smaller;\n",
       "  line-height: 1em;\n",
       "  font-family: monospace;\n",
       "  background-color: var(--sklearn-color-background);\n",
       "  border-radius: 1em;\n",
       "  height: 1em;\n",
       "  width: 1em;\n",
       "  text-decoration: none !important;\n",
       "  margin-left: 1ex;\n",
       "  /* unfitted */\n",
       "  border: var(--sklearn-color-unfitted-level-1) 1pt solid;\n",
       "  color: var(--sklearn-color-unfitted-level-1);\n",
       "}\n",
       "\n",
       ".sk-estimator-doc-link.fitted,\n",
       "a:link.sk-estimator-doc-link.fitted,\n",
       "a:visited.sk-estimator-doc-link.fitted {\n",
       "  /* fitted */\n",
       "  border: var(--sklearn-color-fitted-level-1) 1pt solid;\n",
       "  color: var(--sklearn-color-fitted-level-1);\n",
       "}\n",
       "\n",
       "/* On hover */\n",
       "div.sk-estimator:hover .sk-estimator-doc-link:hover,\n",
       ".sk-estimator-doc-link:hover,\n",
       "div.sk-label-container:hover .sk-estimator-doc-link:hover,\n",
       ".sk-estimator-doc-link:hover {\n",
       "  /* unfitted */\n",
       "  background-color: var(--sklearn-color-unfitted-level-3);\n",
       "  color: var(--sklearn-color-background);\n",
       "  text-decoration: none;\n",
       "}\n",
       "\n",
       "div.sk-estimator.fitted:hover .sk-estimator-doc-link.fitted:hover,\n",
       ".sk-estimator-doc-link.fitted:hover,\n",
       "div.sk-label-container:hover .sk-estimator-doc-link.fitted:hover,\n",
       ".sk-estimator-doc-link.fitted:hover {\n",
       "  /* fitted */\n",
       "  background-color: var(--sklearn-color-fitted-level-3);\n",
       "  color: var(--sklearn-color-background);\n",
       "  text-decoration: none;\n",
       "}\n",
       "\n",
       "/* Span, style for the box shown on hovering the info icon */\n",
       ".sk-estimator-doc-link span {\n",
       "  display: none;\n",
       "  z-index: 9999;\n",
       "  position: relative;\n",
       "  font-weight: normal;\n",
       "  right: .2ex;\n",
       "  padding: .5ex;\n",
       "  margin: .5ex;\n",
       "  width: min-content;\n",
       "  min-width: 20ex;\n",
       "  max-width: 50ex;\n",
       "  color: var(--sklearn-color-text);\n",
       "  box-shadow: 2pt 2pt 4pt #999;\n",
       "  /* unfitted */\n",
       "  background: var(--sklearn-color-unfitted-level-0);\n",
       "  border: .5pt solid var(--sklearn-color-unfitted-level-3);\n",
       "}\n",
       "\n",
       ".sk-estimator-doc-link.fitted span {\n",
       "  /* fitted */\n",
       "  background: var(--sklearn-color-fitted-level-0);\n",
       "  border: var(--sklearn-color-fitted-level-3);\n",
       "}\n",
       "\n",
       ".sk-estimator-doc-link:hover span {\n",
       "  display: block;\n",
       "}\n",
       "\n",
       "/* \"?\"-specific style due to the `<a>` HTML tag */\n",
       "\n",
       "#sk-container-id-2 a.estimator_doc_link {\n",
       "  float: right;\n",
       "  font-size: 1rem;\n",
       "  line-height: 1em;\n",
       "  font-family: monospace;\n",
       "  background-color: var(--sklearn-color-background);\n",
       "  border-radius: 1rem;\n",
       "  height: 1rem;\n",
       "  width: 1rem;\n",
       "  text-decoration: none;\n",
       "  /* unfitted */\n",
       "  color: var(--sklearn-color-unfitted-level-1);\n",
       "  border: var(--sklearn-color-unfitted-level-1) 1pt solid;\n",
       "}\n",
       "\n",
       "#sk-container-id-2 a.estimator_doc_link.fitted {\n",
       "  /* fitted */\n",
       "  border: var(--sklearn-color-fitted-level-1) 1pt solid;\n",
       "  color: var(--sklearn-color-fitted-level-1);\n",
       "}\n",
       "\n",
       "/* On hover */\n",
       "#sk-container-id-2 a.estimator_doc_link:hover {\n",
       "  /* unfitted */\n",
       "  background-color: var(--sklearn-color-unfitted-level-3);\n",
       "  color: var(--sklearn-color-background);\n",
       "  text-decoration: none;\n",
       "}\n",
       "\n",
       "#sk-container-id-2 a.estimator_doc_link.fitted:hover {\n",
       "  /* fitted */\n",
       "  background-color: var(--sklearn-color-fitted-level-3);\n",
       "}\n",
       "</style><div id=\"sk-container-id-2\" class=\"sk-top-container\"><div class=\"sk-text-repr-fallback\"><pre>LinearRegression(fit_intercept=False)</pre><b>In a Jupyter environment, please rerun this cell to show the HTML representation or trust the notebook. <br />On GitHub, the HTML representation is unable to render, please try loading this page with nbviewer.org.</b></div><div class=\"sk-container\" hidden><div class=\"sk-item\"><div class=\"sk-estimator fitted sk-toggleable\"><input class=\"sk-toggleable__control sk-hidden--visually\" id=\"sk-estimator-id-2\" type=\"checkbox\" checked><label for=\"sk-estimator-id-2\" class=\"sk-toggleable__label fitted sk-toggleable__label-arrow fitted\">&nbsp;&nbsp;LinearRegression<a class=\"sk-estimator-doc-link fitted\" rel=\"noreferrer\" target=\"_blank\" href=\"https://scikit-learn.org/1.5/modules/generated/sklearn.linear_model.LinearRegression.html\">?<span>Documentation for LinearRegression</span></a><span class=\"sk-estimator-doc-link fitted\">i<span>Fitted</span></span></label><div class=\"sk-toggleable__content fitted\"><pre>LinearRegression(fit_intercept=False)</pre></div> </div></div></div></div>"
      ],
      "text/plain": [
       "LinearRegression(fit_intercept=False)"
      ]
     },
     "execution_count": 29,
     "metadata": {},
     "output_type": "execute_result"
    }
   ],
   "source": [
    "model = LinearRegression(fit_intercept=False)\n",
    "model.fit(df[['Force_N']], df['Extension_cm'])"
   ]
  },
  {
   "cell_type": "markdown",
   "id": "6c00059b-1d5c-4a7e-b074-e5e65a1ec9e3",
   "metadata": {},
   "source": [
    "#### Generate predictions for new data"
   ]
  },
  {
   "cell_type": "code",
   "execution_count": 31,
   "id": "2e482f00-a32a-4e23-9137-626b5397b0a2",
   "metadata": {},
   "outputs": [
    {
     "name": "stderr",
     "output_type": "stream",
     "text": [
      "/opt/conda/lib/python3.11/site-packages/sklearn/base.py:493: UserWarning: X does not have valid feature names, but LinearRegression was fitted with feature names\n",
      "  warnings.warn(\n"
     ]
    }
   ],
   "source": [
    "new_forces = np.arange(0.5, 10.5, 0.2)\n",
    "predicted_extension = model.predict(new_forces.reshape(-1, 1))"
   ]
  },
  {
   "cell_type": "code",
   "execution_count": 32,
   "id": "e5258521-a0ae-4893-aa66-f7bcabac58e0",
   "metadata": {},
   "outputs": [
    {
     "data": {
      "image/png": "[encoded data removed]",
      "text/plain": [
       "<Figure size 300x300 with 1 Axes>"
      ]
     },
     "execution_count": 32,
     "metadata": {},
     "output_type": "execute_result"
    }
   ],
   "source": [
    "fig2 = copy.deepcopy(fig)\n",
    "ax = fig2.axes[0]\n",
    "\n",
    "ax.scatter(\n",
    "    new_forces, \n",
    "    predicted_extension, \n",
    "    s=0.1, # marker size\n",
    "    label = 'prediction'\n",
    ")\n",
    "ax.legend(loc='upper left', bbox_to_anchor=(1, 1))\n",
    "ax.grid()\n",
    "\n",
    "fig2"
   ]
  },
  {
   "cell_type": "markdown",
   "id": "cc37629b-2578-47a8-9581-50173ea81941",
   "metadata": {},
   "source": [
    "#### Obtain parameters"
   ]
  },
  {
   "cell_type": "code",
   "execution_count": 33,
   "id": "9e5dd600-092e-4416-85a8-2fcaf9a04d58",
   "metadata": {},
   "outputs": [
    {
     "name": "stdout",
     "output_type": "stream",
     "text": [
      "Estimated spring constant k ≈ 5.584 N/cm\n",
      "Regression Line: Extension ≈ 0.179 * Force + 0.000\n"
     ]
    }
   ],
   "source": [
    "slope = model.coef_[0]\n",
    "intercept = model.intercept_\n",
    "\n",
    "print(f\"Estimated spring constant k ≈ {1/slope:.3f} N/cm\")\n",
    "print(f\"Regression Line: Extension ≈ {slope:.3f} * Force + {intercept:.3f}\")"
   ]
  },
  {
   "cell_type": "markdown",
   "id": "ee511319-5946-451a-b0d8-d929782f1821",
   "metadata": {},
   "source": [
    "## Quadratic relationship"
   ]
  },
  {
   "cell_type": "markdown",
   "id": "6a0c6ed4-ff71-4c56-8417-f2f5a09b35dc",
   "metadata": {},
   "source": [
    "For some materials (like rubber), the relationship between force $F$ and extension $x$ can be nonlinear, especially at large deformations. A simplified model might resemble:\n",
    "$x \\sim F^2$.\n",
    "\n",
    "Let's first assume such a quadratic dependeny:"
   ]
  },
  {
   "cell_type": "markdown",
   "id": "a042d198-6391-433e-ba84-466c19a982f3",
   "metadata": {},
   "source": [
    "### Data Simulation"
   ]
  },
  {
   "cell_type": "code",
   "execution_count": 34,
   "id": "ba8c6906-998e-48ca-8660-b994eff213fd",
   "metadata": {},
   "outputs": [
    {
     "data": {
      "text/html": [
       "<div>\n",
       "<style scoped>\n",
       "    .dataframe tbody tr th:only-of-type {\n",
       "        vertical-align: middle;\n",
       "    }\n",
       "\n",
       "    .dataframe tbody tr th {\n",
       "        vertical-align: top;\n",
       "    }\n",
       "\n",
       "    .dataframe thead th {\n",
       "        text-align: right;\n",
       "    }\n",
       "</style>\n",
       "<table border=\"1\" class=\"dataframe\">\n",
       "  <thead>\n",
       "    <tr style=\"text-align: right;\">\n",
       "      <th></th>\n",
       "      <th>Force [N]</th>\n",
       "      <th>Extension [cm]</th>\n",
       "    </tr>\n",
       "  </thead>\n",
       "  <tbody>\n",
       "    <tr>\n",
       "      <th>0</th>\n",
       "      <td>1.0</td>\n",
       "      <td>-0.065469</td>\n",
       "    </tr>\n",
       "    <tr>\n",
       "      <th>1</th>\n",
       "      <td>1.5</td>\n",
       "      <td>0.134758</td>\n",
       "    </tr>\n",
       "    <tr>\n",
       "      <th>2</th>\n",
       "      <td>2.0</td>\n",
       "      <td>0.210780</td>\n",
       "    </tr>\n",
       "    <tr>\n",
       "      <th>3</th>\n",
       "      <td>2.5</td>\n",
       "      <td>0.386796</td>\n",
       "    </tr>\n",
       "    <tr>\n",
       "      <th>4</th>\n",
       "      <td>3.0</td>\n",
       "      <td>0.353384</td>\n",
       "    </tr>\n",
       "  </tbody>\n",
       "</table>\n",
       "</div>"
      ],
      "text/plain": [
       "   Force [N]  Extension [cm]\n",
       "0        1.0       -0.065469\n",
       "1        1.5        0.134758\n",
       "2        2.0        0.210780\n",
       "3        2.5        0.386796\n",
       "4        3.0        0.353384"
      ]
     },
     "execution_count": 34,
     "metadata": {},
     "output_type": "execute_result"
    }
   ],
   "source": [
    "np.random.seed(42)  # for reproducibility\n",
    "\n",
    "inv_spring_constant = 1 / (np.random.rand(1)*5 + 20)\n",
    "\n",
    "forces = np.arange(1, 11, 0.5)\n",
    "true_extensions = inv_spring_constant * forces**2\n",
    "\n",
    "noise = np.random.normal(0, 0.1, forces.shape)\n",
    "measured_extensions = true_extensions + noise\n",
    "\n",
    "# Create DataFrame for reference\n",
    "df = pd.DataFrame({\n",
    "    'Force [N]': forces,\n",
    "    'Extension [cm]': measured_extensions\n",
    "})\n",
    "df.head()"
   ]
  },
  {
   "cell_type": "code",
   "execution_count": 35,
   "id": "bbdde224-9382-4db5-9e7e-30cd8281165c",
   "metadata": {},
   "outputs": [],
   "source": [
    "def scatter_force_extension(df, x, y, ax, **kwargs):\n",
    "    ax.scatter(df[x], df[y], **kwargs)\n",
    "    ax.set_ylabel(y)\n",
    "    ax.set_xlabel(x)\n",
    "    ax.grid(True)"
   ]
  },
  {
   "cell_type": "code",
   "execution_count": 36,
   "id": "e6624df2-4b7d-4247-9b32-01d9915f8ee4",
   "metadata": {},
   "outputs": [
    {
     "data": {
      "image/png": "[encoded data removed]",
      "text/plain": [
       "<Figure size 1000x300 with 2 Axes>"
      ]
     },
     "metadata": {},
     "output_type": "display_data"
    }
   ],
   "source": [
    "fig, axes = plt.subplots(1,2, figsize=(10,3)) \n",
    "\n",
    "scatter_force_extension(df, x = 'Force [N]', y = 'Extension [cm]', ax=axes[0], label='Measurement')\n",
    "\n",
    "df['Force² [N²]'] = df['Force [N]']**2\n",
    "scatter_force_extension(df, x = 'Force² [N²]', y = 'Extension [cm]', ax=axes[1], label='Measurement')"
   ]
  },
  {
   "cell_type": "markdown",
   "id": "625a0744-a461-4b12-8e8b-0902e8c9b118",
   "metadata": {},
   "source": [
    "### Fit Linear Regression Model"
   ]
  },
  {
   "cell_type": "code",
   "execution_count": 37,
   "id": "dacca1c0-e5bf-49af-b782-dcce657fe82e",
   "metadata": {},
   "outputs": [],
   "source": [
    "model1 = LinearRegression(fit_intercept=False)\n",
    "model1.fit(df[['Force [N]']], df['Extension [cm]'])\n",
    "\n",
    "model2 = LinearRegression(fit_intercept=False)\n",
    "model2.fit(df[['Force² [N²]']], df['Extension [cm]'])\n",
    "\n",
    "new_forces = pd.DataFrame(np.arange(1, 11, 0.1), columns=['Force [N]'])\n",
    "new_forces['Force² [N²]'] = new_forces['Force [N]']**2\n",
    "\n",
    "new_forces['Predicted M1 [cm]'] = model1.predict(new_forces[['Force [N]']])\n",
    "new_forces['Predicted M2 [cm]'] = model2.predict(new_forces[['Force² [N²]']])"
   ]
  },
  {
   "cell_type": "code",
   "execution_count": 38,
   "id": "387732b8-6504-42f6-97ab-d0c0f2770b42",
   "metadata": {},
   "outputs": [
    {
     "data": {
      "image/png": "[encoded data removed]",
      "text/plain": [
       "<Figure size 1000x300 with 2 Axes>"
      ]
     },
     "metadata": {},
     "output_type": "display_data"
    }
   ],
   "source": [
    "fig, axes = plt.subplots(1,2, figsize=(10,3)) \n",
    "\n",
    "scatter_force_extension(df, x = 'Force [N]', y = 'Extension [cm]', ax=axes[0])\n",
    "scatter_force_extension(df, x = 'Force² [N²]', y = 'Extension [cm]', ax=axes[1], label='Measurement')\n",
    "\n",
    "ax = axes[0]\n",
    "label1 = 'Model with linear feature'\n",
    "label2 = 'Model with quadratic feature'\n",
    "scatter_force_extension(new_forces, x = 'Force [N]', y = 'Predicted M1 [cm]', ax=ax, label=label1, s=2)\n",
    "scatter_force_extension(new_forces, x = 'Force [N]', y = 'Predicted M2 [cm]', ax=ax, label=label2, s=2)\n",
    "\n",
    "ax = axes[1]\n",
    "scatter_force_extension(new_forces, x = 'Force² [N²]', y = 'Predicted M1 [cm]', ax=ax, label=label1, s=2)\n",
    "scatter_force_extension(new_forces, x = 'Force² [N²]', y = 'Predicted M2 [cm]', ax=ax, label=label2, s=2)\n",
    "\n",
    "_ = axes[1].legend()"
   ]
  },
  {
   "cell_type": "markdown",
   "id": "b5a5f8b1-4bdd-42d4-8b6b-d2c9b61c5044",
   "metadata": {},
   "source": [
    "## Generell non-linear relatinship"
   ]
  },
  {
   "cell_type": "markdown",
   "id": "847d828e-98ce-45cc-8ef5-049064ad0e17",
   "metadata": {},
   "source": [
    "In practice, the relationship between force $F$ and extension $x$ in real materials may include linear, quadratic, and even higher-order polynomial terms."
   ]
  },
  {
   "cell_type": "markdown",
   "id": "aea0e99b-f60f-42dd-943c-024d5c1713f5",
   "metadata": {},
   "source": [
    "### Data Simulation"
   ]
  },
  {
   "cell_type": "code",
   "execution_count": 39,
   "id": "88212226-a989-467c-8531-1c0fcf7191d4",
   "metadata": {},
   "outputs": [
    {
     "data": {
      "text/html": [
       "<div>\n",
       "<style scoped>\n",
       "    .dataframe tbody tr th:only-of-type {\n",
       "        vertical-align: middle;\n",
       "    }\n",
       "\n",
       "    .dataframe tbody tr th {\n",
       "        vertical-align: top;\n",
       "    }\n",
       "\n",
       "    .dataframe thead th {\n",
       "        text-align: right;\n",
       "    }\n",
       "</style>\n",
       "<table border=\"1\" class=\"dataframe\">\n",
       "  <thead>\n",
       "    <tr style=\"text-align: right;\">\n",
       "      <th></th>\n",
       "      <th>Force [N]</th>\n",
       "      <th>Extension [cm]</th>\n",
       "    </tr>\n",
       "  </thead>\n",
       "  <tbody>\n",
       "    <tr>\n",
       "      <th>0</th>\n",
       "      <td>4</td>\n",
       "      <td>16.329858</td>\n",
       "    </tr>\n",
       "    <tr>\n",
       "      <th>1</th>\n",
       "      <td>6</td>\n",
       "      <td>22.585741</td>\n",
       "    </tr>\n",
       "    <tr>\n",
       "      <th>2</th>\n",
       "      <td>8</td>\n",
       "      <td>60.824395</td>\n",
       "    </tr>\n",
       "    <tr>\n",
       "      <th>3</th>\n",
       "      <td>10</td>\n",
       "      <td>83.992644</td>\n",
       "    </tr>\n",
       "    <tr>\n",
       "      <th>4</th>\n",
       "      <td>12</td>\n",
       "      <td>167.131428</td>\n",
       "    </tr>\n",
       "  </tbody>\n",
       "</table>\n",
       "</div>"
      ],
      "text/plain": [
       "   Force [N]  Extension [cm]\n",
       "0          4       16.329858\n",
       "1          6       22.585741\n",
       "2          8       60.824395\n",
       "3         10       83.992644\n",
       "4         12      167.131428"
      ]
     },
     "execution_count": 39,
     "metadata": {},
     "output_type": "execute_result"
    }
   ],
   "source": [
    "# Random coefficients for each term (kept small for realistic extensions)\n",
    "np.random.seed(12)\n",
    "\n",
    "# Force values\n",
    "forces = np.arange(4, 20, 2)\n",
    "\n",
    "# Compute true extension \n",
    "def calc_extension(forces, a1 = 0.1, a2 = 0.5, a3 = 0.05): \n",
    "    return a1*forces + a2 * forces**2 + a3 * forces**3 \n",
    "\n",
    "true_extensions = calc_extension(forces)\n",
    "noise = np.random.normal(0, 10, forces.shape)\n",
    "measured_extensions = true_extensions + noise\n",
    "\n",
    "# Create DataFrame\n",
    "df = pd.DataFrame({\n",
    "    'Force [N]': forces,\n",
    "    'Extension [cm]': measured_extensions\n",
    "})\n",
    "df.head()"
   ]
  },
  {
   "cell_type": "markdown",
   "id": "eb06b1d4-0d07-4ab4-92aa-55f107317ff8",
   "metadata": {},
   "source": [
    "Often, we do not know the exact relationship and must experiment.\n",
    "To this end, we first prepare a function that generates various polynomial terms of the force."
   ]
  },
  {
   "cell_type": "code",
   "execution_count": 40,
   "id": "928c1066-42c5-4c23-902e-8f26bed21699",
   "metadata": {},
   "outputs": [],
   "source": [
    "def to_superscript(x):\n",
    "    if x == 1:\n",
    "        return '\\u00B9'\n",
    "    if x == 2:\n",
    "        return '\\u00B2'\n",
    "    if x == 3:\n",
    "        return '\\u00B3'  \n",
    "    return chr(0x2070 + x)\n",
    "\n",
    "\n",
    "def add_poly(df, degrees:list[int]):\n",
    "\n",
    "    for degree in degrees:\n",
    "        sup = to_superscript(degree)\n",
    "        df[f'Force{sup} [N{sup}]'] = df['Force [N]']**degree\n",
    "\n",
    "    return df"
   ]
  },
  {
   "cell_type": "code",
   "execution_count": 81,
   "id": "a0c22ef0-bd0a-44f0-88bd-522bfb037110",
   "metadata": {},
   "outputs": [
    {
     "data": {
      "text/html": [
       "<div>\n",
       "<style scoped>\n",
       "    .dataframe tbody tr th:only-of-type {\n",
       "        vertical-align: middle;\n",
       "    }\n",
       "\n",
       "    .dataframe tbody tr th {\n",
       "        vertical-align: top;\n",
       "    }\n",
       "\n",
       "    .dataframe thead th {\n",
       "        text-align: right;\n",
       "    }\n",
       "</style>\n",
       "<table border=\"1\" class=\"dataframe\">\n",
       "  <thead>\n",
       "    <tr style=\"text-align: right;\">\n",
       "      <th></th>\n",
       "      <th>Force [N]</th>\n",
       "      <th>Force² [N²]</th>\n",
       "      <th>Force³ [N³]</th>\n",
       "    </tr>\n",
       "  </thead>\n",
       "  <tbody>\n",
       "    <tr>\n",
       "      <th>0</th>\n",
       "      <td>4</td>\n",
       "      <td>16</td>\n",
       "      <td>64</td>\n",
       "    </tr>\n",
       "    <tr>\n",
       "      <th>1</th>\n",
       "      <td>6</td>\n",
       "      <td>36</td>\n",
       "      <td>216</td>\n",
       "    </tr>\n",
       "    <tr>\n",
       "      <th>2</th>\n",
       "      <td>8</td>\n",
       "      <td>64</td>\n",
       "      <td>512</td>\n",
       "    </tr>\n",
       "    <tr>\n",
       "      <th>3</th>\n",
       "      <td>10</td>\n",
       "      <td>100</td>\n",
       "      <td>1000</td>\n",
       "    </tr>\n",
       "    <tr>\n",
       "      <th>4</th>\n",
       "      <td>12</td>\n",
       "      <td>144</td>\n",
       "      <td>1728</td>\n",
       "    </tr>\n",
       "  </tbody>\n",
       "</table>\n",
       "</div>"
      ],
      "text/plain": [
       "   Force [N]  Force² [N²]  Force³ [N³]\n",
       "0          4           16           64\n",
       "1          6           36          216\n",
       "2          8           64          512\n",
       "3         10          100         1000\n",
       "4         12          144         1728"
      ]
     },
     "execution_count": 81,
     "metadata": {},
     "output_type": "execute_result"
    }
   ],
   "source": [
    "features = add_poly(df[['Force [N]']], range(2,4))\n",
    "features.head()"
   ]
  },
  {
   "cell_type": "markdown",
   "id": "a96d1756-2b4f-44e5-99fd-5136cc45df47",
   "metadata": {},
   "source": [
    "### Fit Linear Regression Model"
   ]
  },
  {
   "cell_type": "code",
   "execution_count": 75,
   "id": "bee7b592-c3e7-4219-bc09-566372c2c7b3",
   "metadata": {},
   "outputs": [
    {
     "data": {
      "text/plain": [
       "<matplotlib.legend.Legend at 0x7212e6554350>"
      ]
     },
     "execution_count": 75,
     "metadata": {},
     "output_type": "execute_result"
    },
    {
     "data": {
      "image/png": "[encoded data removed]",
      "text/plain": [
       "<Figure size 500x300 with 1 Axes>"
      ]
     },
     "metadata": {},
     "output_type": "display_data"
    }
   ],
   "source": [
    "degrees = range(2,4)\n",
    "features = add_poly(df[['Force [N]']], degrees)\n",
    "\n",
    "model = LinearRegression(fit_intercept=False)\n",
    "model.fit(features, df['Extension [cm]'])\n",
    "\n",
    "hypothetical_forces = pd.DataFrame(np.arange(4, 19, 0.1), columns=['Force [N]'])\n",
    "hypothetical_forces = add_poly(hypothetical_forces, degrees)\n",
    "\n",
    "predicted_extension = model.predict(hypothetical_forces)\n",
    "\n",
    "fig, ax = plt.subplots(1,1, figsize=(5,3)) \n",
    "scatter_force_extension(df, x = 'Force [N]', y = 'Extension [cm]', ax=ax, label='measurement')\n",
    "ax.scatter(hypothetical_forces['Force [N]'], predicted_extension, s=0.1, label = 'prediction')\n",
    "ax.legend()"
   ]
  },
  {
   "cell_type": "markdown",
   "id": "00c12660-08a9-4516-bbbc-763b8fa0ba59",
   "metadata": {},
   "source": [
    "We can choose different polynomial parameters. But what is the best one?"
   ]
  },
  {
   "cell_type": "markdown",
   "id": "8357301f-c22d-4d8e-9f4c-858b3ee33146",
   "metadata": {},
   "source": [
    "Assume we measure new data:"
   ]
  },
  {
   "cell_type": "code",
   "execution_count": 76,
   "id": "809c5377-dd49-4493-9855-6b9f8d649f74",
   "metadata": {},
   "outputs": [
    {
     "data": {
      "text/html": [
       "<div>\n",
       "<style scoped>\n",
       "    .dataframe tbody tr th:only-of-type {\n",
       "        vertical-align: middle;\n",
       "    }\n",
       "\n",
       "    .dataframe tbody tr th {\n",
       "        vertical-align: top;\n",
       "    }\n",
       "\n",
       "    .dataframe thead th {\n",
       "        text-align: right;\n",
       "    }\n",
       "</style>\n",
       "<table border=\"1\" class=\"dataframe\">\n",
       "  <thead>\n",
       "    <tr style=\"text-align: right;\">\n",
       "      <th></th>\n",
       "      <th>Force [N]</th>\n",
       "      <th>Extension [cm]</th>\n",
       "      <th>Force² [N²]</th>\n",
       "      <th>Force³ [N³]</th>\n",
       "    </tr>\n",
       "  </thead>\n",
       "  <tbody>\n",
       "    <tr>\n",
       "      <th>0</th>\n",
       "      <td>5</td>\n",
       "      <td>16.126715</td>\n",
       "      <td>25</td>\n",
       "      <td>125</td>\n",
       "    </tr>\n",
       "    <tr>\n",
       "      <th>1</th>\n",
       "      <td>7</td>\n",
       "      <td>45.742847</td>\n",
       "      <td>49</td>\n",
       "      <td>343</td>\n",
       "    </tr>\n",
       "    <tr>\n",
       "      <th>2</th>\n",
       "      <td>9</td>\n",
       "      <td>76.290915</td>\n",
       "      <td>81</td>\n",
       "      <td>729</td>\n",
       "    </tr>\n",
       "    <tr>\n",
       "      <th>3</th>\n",
       "      <td>11</td>\n",
       "      <td>123.132103</td>\n",
       "      <td>121</td>\n",
       "      <td>1331</td>\n",
       "    </tr>\n",
       "    <tr>\n",
       "      <th>4</th>\n",
       "      <td>13</td>\n",
       "      <td>198.005689</td>\n",
       "      <td>169</td>\n",
       "      <td>2197</td>\n",
       "    </tr>\n",
       "  </tbody>\n",
       "</table>\n",
       "</div>"
      ],
      "text/plain": [
       "   Force [N]  Extension [cm]  Force² [N²]  Force³ [N³]\n",
       "0          5       16.126715           25          125\n",
       "1          7       45.742847           49          343\n",
       "2          9       76.290915           81          729\n",
       "3         11      123.132103          121         1331\n",
       "4         13      198.005689          169         2197"
      ]
     },
     "execution_count": 76,
     "metadata": {},
     "output_type": "execute_result"
    }
   ],
   "source": [
    "new_forces = np.arange(5, 18, 2)\n",
    "true_extensions = calc_extension(new_forces)\n",
    "np.random.seed(15)\n",
    "noise = np.random.normal(0, 10, new_forces.shape)\n",
    "measured_extensions = true_extensions + noise\n",
    "\n",
    "# Create DataFrame\n",
    "new_measurement = pd.DataFrame({\n",
    "    'Force [N]': new_forces,\n",
    "    'Extension [cm]': measured_extensions\n",
    "})\n",
    "new_measurement = add_poly(new_measurement, degrees)\n",
    "new_measurement.head()"
   ]
  },
  {
   "cell_type": "code",
   "execution_count": 77,
   "id": "67fc208a-a1d7-4643-9120-05575a62b9a8",
   "metadata": {},
   "outputs": [
    {
     "data": {
      "image/png": "[encoded data removed]",
      "text/plain": [
       "<Figure size 500x300 with 1 Axes>"
      ]
     },
     "execution_count": 77,
     "metadata": {},
     "output_type": "execute_result"
    }
   ],
   "source": [
    "ax.scatter(new_measurement['Force [N]'], new_measurement['Extension [cm]'], label = 'test data')\n",
    "ax.legend()\n",
    "fig"
   ]
  },
  {
   "cell_type": "markdown",
   "id": "792cb3fb-ac4b-48f3-a266-09432d221974",
   "metadata": {},
   "source": [
    "Then we can compare the prediction vs. the actual measured data."
   ]
  },
  {
   "cell_type": "code",
   "execution_count": 78,
   "id": "3b52290e-ec52-498e-a8f1-cff476d3af2b",
   "metadata": {},
   "outputs": [
    {
     "data": {
      "text/html": [
       "<div>\n",
       "<style scoped>\n",
       "    .dataframe tbody tr th:only-of-type {\n",
       "        vertical-align: middle;\n",
       "    }\n",
       "\n",
       "    .dataframe tbody tr th {\n",
       "        vertical-align: top;\n",
       "    }\n",
       "\n",
       "    .dataframe thead th {\n",
       "        text-align: right;\n",
       "    }\n",
       "</style>\n",
       "<table border=\"1\" class=\"dataframe\">\n",
       "  <thead>\n",
       "    <tr style=\"text-align: right;\">\n",
       "      <th></th>\n",
       "      <th>Force [N]</th>\n",
       "      <th>Extension [cm]</th>\n",
       "      <th>Force² [N²]</th>\n",
       "      <th>Force³ [N³]</th>\n",
       "      <th>predicted_extension</th>\n",
       "    </tr>\n",
       "  </thead>\n",
       "  <tbody>\n",
       "    <tr>\n",
       "      <th>0</th>\n",
       "      <td>5</td>\n",
       "      <td>16.126715</td>\n",
       "      <td>25</td>\n",
       "      <td>125</td>\n",
       "      <td>18.850740</td>\n",
       "    </tr>\n",
       "    <tr>\n",
       "      <th>1</th>\n",
       "      <td>7</td>\n",
       "      <td>45.742847</td>\n",
       "      <td>49</td>\n",
       "      <td>343</td>\n",
       "      <td>40.058361</td>\n",
       "    </tr>\n",
       "    <tr>\n",
       "      <th>2</th>\n",
       "      <td>9</td>\n",
       "      <td>76.290915</td>\n",
       "      <td>81</td>\n",
       "      <td>729</td>\n",
       "      <td>73.527618</td>\n",
       "    </tr>\n",
       "    <tr>\n",
       "      <th>3</th>\n",
       "      <td>11</td>\n",
       "      <td>123.132103</td>\n",
       "      <td>121</td>\n",
       "      <td>1331</td>\n",
       "      <td>122.226333</td>\n",
       "    </tr>\n",
       "    <tr>\n",
       "      <th>4</th>\n",
       "      <td>13</td>\n",
       "      <td>198.005689</td>\n",
       "      <td>169</td>\n",
       "      <td>2197</td>\n",
       "      <td>189.122331</td>\n",
       "    </tr>\n",
       "    <tr>\n",
       "      <th>5</th>\n",
       "      <td>15</td>\n",
       "      <td>265.113947</td>\n",
       "      <td>225</td>\n",
       "      <td>3375</td>\n",
       "      <td>277.183433</td>\n",
       "    </tr>\n",
       "    <tr>\n",
       "      <th>6</th>\n",
       "      <td>17</td>\n",
       "      <td>380.891380</td>\n",
       "      <td>289</td>\n",
       "      <td>4913</td>\n",
       "      <td>389.377464</td>\n",
       "    </tr>\n",
       "  </tbody>\n",
       "</table>\n",
       "</div>"
      ],
      "text/plain": [
       "   Force [N]  Extension [cm]  Force² [N²]  Force³ [N³]  predicted_extension\n",
       "0          5       16.126715           25          125            18.850740\n",
       "1          7       45.742847           49          343            40.058361\n",
       "2          9       76.290915           81          729            73.527618\n",
       "3         11      123.132103          121         1331           122.226333\n",
       "4         13      198.005689          169         2197           189.122331\n",
       "5         15      265.113947          225         3375           277.183433\n",
       "6         17      380.891380          289         4913           389.377464"
      ]
     },
     "execution_count": 78,
     "metadata": {},
     "output_type": "execute_result"
    }
   ],
   "source": [
    "new_measurement['predicted_extension'] = model.predict(new_measurement[model.feature_names_in_])\n",
    "new_measurement"
   ]
  },
  {
   "cell_type": "code",
   "execution_count": 79,
   "id": "5565cb11-dea1-45ea-939c-f09c0bc1a198",
   "metadata": {},
   "outputs": [
    {
     "data": {
      "image/png": "[encoded data removed]",
      "text/plain": [
       "<Figure size 500x300 with 1 Axes>"
      ]
     },
     "execution_count": 79,
     "metadata": {},
     "output_type": "execute_result"
    }
   ],
   "source": [
    "difference = new_measurement['Extension [cm]'] - new_measurement['predicted_extension']\n",
    "\n",
    "ax.vlines(\n",
    "    new_measurement['Force [N]'], new_measurement['Extension [cm]'], new_measurement['predicted_extension'],\n",
    "    colors='red', linestyles='solid', label='Difference'\n",
    ")\n",
    "\n",
    "ax.legend()\n",
    "fig"
   ]
  },
  {
   "cell_type": "code",
   "execution_count": 80,
   "id": "529516a8-5fbb-4555-80d4-ce734e29b2ad",
   "metadata": {},
   "outputs": [
    {
     "name": "stdout",
     "output_type": "stream",
     "text": [
      " MAE: 5.93\n",
      "RMSE: 7.02\n"
     ]
    }
   ],
   "source": [
    "mean_absolute_error = difference.abs().mean()\n",
    "mean_squared_error = (difference**2).mean()\n",
    "root_mean_quared_error = np.sqrt(mean_squared_error)\n",
    "\n",
    "print(f' MAE: {mean_absolute_error:.2f}')\n",
    "print(f'RMSE: {root_mean_quared_error:.2f}')"
   ]
  },
  {
   "cell_type": "code",
   "execution_count": null,
   "id": "c5856fbe-ddff-45b7-91b4-5878fa2b5511",
   "metadata": {},
   "outputs": [],
   "source": []
  },
  {
   "cell_type": "code",
   "execution_count": null,
   "id": "9e7c6a0a-40bd-4ba0-9bf4-8583b45c40fc",
   "metadata": {},
   "outputs": [],
   "source": []
  },
  {
   "cell_type": "code",
   "execution_count": null,
   "id": "140a8e7a-a454-46a7-8bf4-546a74acd975",
   "metadata": {},
   "outputs": [],
   "source": []
  }
 ],
 "metadata": {
  "kernelspec": {
   "display_name": "Python 3 (ipykernel)",
   "language": "python",
   "name": "python3"
  },
  "language_info": {
   "codemirror_mode": {
    "name": "ipython",
    "version": 3
   },
   "file_extension": ".py",
   "mimetype": "text/x-python",
   "name": "python",
   "nbconvert_exporter": "python",
   "pygments_lexer": "ipython3",
   "version": "3.11.10"
  }
 },
 "nbformat": 4,
 "nbformat_minor": 5
}
