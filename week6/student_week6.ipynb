{
 "cells": [
  {
   "metadata": {},
   "cell_type": "markdown",
   "source": [
    "## Aufgabe\n",
    "1) Logistische Regression - Spamklassifikation\n",
    "    - Führen Sie die Spamklassifikation der vorherigen Übung mit einer logistischen Regression durch.\n",
    "    - Erstellen Sie für die Auswertung eine ROC-Kurve.\n",
    "2) Klassifikation - SA-Subset\n",
    "    - Selektieren Sie nur Reihen mit den 3 häufigsten Labels aus dem SA-Subset (df = df[df['labels'].isin([b'normal.', b'smurf.', b'neptune.'])].copy()).\n",
    "    - Führen Sie eine Klassifikation dieser 3 Klassen durch und finden Sie den besten Parameter für min_freq."
   ],
   "id": "69a168575d83c68a"
  },
  {
   "metadata": {},
   "cell_type": "markdown",
   "source": "### Notizen",
   "id": "3bab02cd237e81d8"
  },
  {
   "metadata": {},
   "cell_type": "markdown",
   "source": [
    "#### Linear Regression\n",
    "1) Lineare Kombination der Features\n",
    "    - $z = w_{1}x_{1} + w_{2}x_{2} + \\ldots + w_{n}x_{n} + b$\n",
    "        - $w_{i}$: Gewichte\n",
    "        - $x_{i}$: Featurewerte\n",
    "        - $b$: Bias (auch $-\\Theta$)\n",
    "2) Anwendung der Sigmoid Funktion\n",
    "    - $\\hat{y}=\\sigma(z)=\\frac{1}{1+\\mathscr{e}^{-z}}$\n",
    "    - $\\hat{y}$ ist die vorhergesagte wahrscheinlichkeit, dass das Sample 1 ist"
   ],
   "id": "b3cbf33096739905"
  },
  {
   "metadata": {},
   "cell_type": "markdown",
   "source": [
    "#### Loss Function\n",
    "..."
   ],
   "id": "99d87f3462dd5045"
  },
  {
   "metadata": {},
   "cell_type": "markdown",
   "source": "Für Hyperparameter am besten die scores einzeln visualisieren um zu sehen, wann der Score optimal ist und wann er wieder abfällt",
   "id": "7db6f2310a7c92f9"
  },
  {
   "metadata": {},
   "cell_type": "markdown",
   "source": "### Aufgaben",
   "id": "80a3e5f39b5770ba"
  },
  {
   "metadata": {},
   "cell_type": "markdown",
   "source": "#### Imports",
   "id": "b863cb4a2e9d915a"
  },
  {
   "metadata": {
    "ExecuteTime": {
     "end_time": "2025-06-24T14:39:33.567562Z",
     "start_time": "2025-06-24T14:39:33.563918Z"
    }
   },
   "cell_type": "code",
   "source": [
    "import numpy as np\n",
    "from sklearn.linear_model import LogisticRegression\n",
    "import pandas as pd\n",
    "import sklearn.metrics as skm\n",
    "import seaborn as sns\n",
    "import matplotlib.pyplot as plt\n",
    "import statistics as stat\n",
    "from sklearn.naive_bayes import BernoulliNB\n",
    "from sklearn.pipeline import Pipeline\n",
    "from sklearn.feature_extraction.text import CountVectorizer\n",
    "from sklearn.model_selection import cross_val_score\n",
    "from sklearn.metrics import make_scorer, precision_score, recall_score\n",
    "from sklearn.model_selection import train_test_split\n",
    "from sklearn.metrics import ConfusionMatrixDisplay\n"
   ],
   "id": "ea4d11cf2e845c07",
   "outputs": [],
   "execution_count": 132
  },
  {
   "metadata": {},
   "cell_type": "markdown",
   "source": "#### Aufgabe 1",
   "id": "e04c2b0353c83d17"
  },
  {
   "metadata": {},
   "cell_type": "markdown",
   "source": "##### Dataset",
   "id": "6a4e4eca0f6d2146"
  },
  {
   "metadata": {
    "ExecuteTime": {
     "end_time": "2025-06-24T14:39:33.884480Z",
     "start_time": "2025-06-24T14:39:33.576690Z"
    }
   },
   "cell_type": "code",
   "source": [
    "data = pd.read_csv(\n",
    "    'https://raw.githubusercontent.com/AiDevNepal/ai-saturdays-workshop-8/master/data/spam.csv'\n",
    ")\n",
    "data"
   ],
   "id": "8543ed193d5b4bad",
   "outputs": [
    {
     "data": {
      "text/plain": [
       "                                                   text target\n",
       "0     Go until jurong point, crazy.. Available only ...    ham\n",
       "1                         Ok lar... Joking wif u oni...    ham\n",
       "2     Free entry in 2 a wkly comp to win FA Cup fina...   spam\n",
       "3     U dun say so early hor... U c already then say...    ham\n",
       "4     Nah I don't think he goes to usf, he lives aro...    ham\n",
       "...                                                 ...    ...\n",
       "5567  This is the 2nd time we have tried 2 contact u...   spam\n",
       "5568              Will Ì_ b going to esplanade fr home?    ham\n",
       "5569  Pity, * was in mood for that. So...any other s...    ham\n",
       "5570  The guy did some bitching but I acted like i'd...    ham\n",
       "5571                         Rofl. Its true to its name    ham\n",
       "\n",
       "[5572 rows x 2 columns]"
      ],
      "text/html": [
       "<div>\n",
       "<style scoped>\n",
       "    .dataframe tbody tr th:only-of-type {\n",
       "        vertical-align: middle;\n",
       "    }\n",
       "\n",
       "    .dataframe tbody tr th {\n",
       "        vertical-align: top;\n",
       "    }\n",
       "\n",
       "    .dataframe thead th {\n",
       "        text-align: right;\n",
       "    }\n",
       "</style>\n",
       "<table border=\"1\" class=\"dataframe\">\n",
       "  <thead>\n",
       "    <tr style=\"text-align: right;\">\n",
       "      <th></th>\n",
       "      <th>text</th>\n",
       "      <th>target</th>\n",
       "    </tr>\n",
       "  </thead>\n",
       "  <tbody>\n",
       "    <tr>\n",
       "      <th>0</th>\n",
       "      <td>Go until jurong point, crazy.. Available only ...</td>\n",
       "      <td>ham</td>\n",
       "    </tr>\n",
       "    <tr>\n",
       "      <th>1</th>\n",
       "      <td>Ok lar... Joking wif u oni...</td>\n",
       "      <td>ham</td>\n",
       "    </tr>\n",
       "    <tr>\n",
       "      <th>2</th>\n",
       "      <td>Free entry in 2 a wkly comp to win FA Cup fina...</td>\n",
       "      <td>spam</td>\n",
       "    </tr>\n",
       "    <tr>\n",
       "      <th>3</th>\n",
       "      <td>U dun say so early hor... U c already then say...</td>\n",
       "      <td>ham</td>\n",
       "    </tr>\n",
       "    <tr>\n",
       "      <th>4</th>\n",
       "      <td>Nah I don't think he goes to usf, he lives aro...</td>\n",
       "      <td>ham</td>\n",
       "    </tr>\n",
       "    <tr>\n",
       "      <th>...</th>\n",
       "      <td>...</td>\n",
       "      <td>...</td>\n",
       "    </tr>\n",
       "    <tr>\n",
       "      <th>5567</th>\n",
       "      <td>This is the 2nd time we have tried 2 contact u...</td>\n",
       "      <td>spam</td>\n",
       "    </tr>\n",
       "    <tr>\n",
       "      <th>5568</th>\n",
       "      <td>Will Ì_ b going to esplanade fr home?</td>\n",
       "      <td>ham</td>\n",
       "    </tr>\n",
       "    <tr>\n",
       "      <th>5569</th>\n",
       "      <td>Pity, * was in mood for that. So...any other s...</td>\n",
       "      <td>ham</td>\n",
       "    </tr>\n",
       "    <tr>\n",
       "      <th>5570</th>\n",
       "      <td>The guy did some bitching but I acted like i'd...</td>\n",
       "      <td>ham</td>\n",
       "    </tr>\n",
       "    <tr>\n",
       "      <th>5571</th>\n",
       "      <td>Rofl. Its true to its name</td>\n",
       "      <td>ham</td>\n",
       "    </tr>\n",
       "  </tbody>\n",
       "</table>\n",
       "<p>5572 rows × 2 columns</p>\n",
       "</div>"
      ]
     },
     "execution_count": 133,
     "metadata": {},
     "output_type": "execute_result"
    }
   ],
   "execution_count": 133
  },
  {
   "metadata": {
    "ExecuteTime": {
     "end_time": "2025-06-24T14:39:33.896718Z",
     "start_time": "2025-06-24T14:39:33.890643Z"
    }
   },
   "cell_type": "code",
   "source": "data['target'].value_counts()",
   "id": "c8777d824a923225",
   "outputs": [
    {
     "data": {
      "text/plain": [
       "target\n",
       "ham     4825\n",
       "spam     747\n",
       "Name: count, dtype: int64"
      ]
     },
     "execution_count": 134,
     "metadata": {},
     "output_type": "execute_result"
    }
   ],
   "execution_count": 134
  },
  {
   "metadata": {
    "ExecuteTime": {
     "end_time": "2025-06-24T14:39:33.910370Z",
     "start_time": "2025-06-24T14:39:33.903546Z"
    }
   },
   "cell_type": "code",
   "source": "data.describe()",
   "id": "cbab4c9f9ed763a",
   "outputs": [
    {
     "data": {
      "text/plain": [
       "                          text target\n",
       "count                     5572   5572\n",
       "unique                    5169      2\n",
       "top     Sorry, I'll call later    ham\n",
       "freq                        30   4825"
      ],
      "text/html": [
       "<div>\n",
       "<style scoped>\n",
       "    .dataframe tbody tr th:only-of-type {\n",
       "        vertical-align: middle;\n",
       "    }\n",
       "\n",
       "    .dataframe tbody tr th {\n",
       "        vertical-align: top;\n",
       "    }\n",
       "\n",
       "    .dataframe thead th {\n",
       "        text-align: right;\n",
       "    }\n",
       "</style>\n",
       "<table border=\"1\" class=\"dataframe\">\n",
       "  <thead>\n",
       "    <tr style=\"text-align: right;\">\n",
       "      <th></th>\n",
       "      <th>text</th>\n",
       "      <th>target</th>\n",
       "    </tr>\n",
       "  </thead>\n",
       "  <tbody>\n",
       "    <tr>\n",
       "      <th>count</th>\n",
       "      <td>5572</td>\n",
       "      <td>5572</td>\n",
       "    </tr>\n",
       "    <tr>\n",
       "      <th>unique</th>\n",
       "      <td>5169</td>\n",
       "      <td>2</td>\n",
       "    </tr>\n",
       "    <tr>\n",
       "      <th>top</th>\n",
       "      <td>Sorry, I'll call later</td>\n",
       "      <td>ham</td>\n",
       "    </tr>\n",
       "    <tr>\n",
       "      <th>freq</th>\n",
       "      <td>30</td>\n",
       "      <td>4825</td>\n",
       "    </tr>\n",
       "  </tbody>\n",
       "</table>\n",
       "</div>"
      ]
     },
     "execution_count": 135,
     "metadata": {},
     "output_type": "execute_result"
    }
   ],
   "execution_count": 135
  },
  {
   "metadata": {},
   "cell_type": "markdown",
   "source": "Map ham/spam to 0/1 so i don't need custom scorers",
   "id": "3a1018019fff4cae"
  },
  {
   "metadata": {
    "ExecuteTime": {
     "end_time": "2025-06-24T14:39:33.933103Z",
     "start_time": "2025-06-24T14:39:33.929460Z"
    }
   },
   "cell_type": "code",
   "source": "data['target'] = data['target'].map({'ham': 0, 'spam': 1})",
   "id": "49d78b4c606806ea",
   "outputs": [],
   "execution_count": 136
  },
  {
   "metadata": {
    "ExecuteTime": {
     "end_time": "2025-06-24T14:39:33.946518Z",
     "start_time": "2025-06-24T14:39:33.941317Z"
    }
   },
   "cell_type": "code",
   "source": "data.describe()",
   "id": "ab9de3783af960a7",
   "outputs": [
    {
     "data": {
      "text/plain": [
       "            target\n",
       "count  5572.000000\n",
       "mean      0.134063\n",
       "std       0.340751\n",
       "min       0.000000\n",
       "25%       0.000000\n",
       "50%       0.000000\n",
       "75%       0.000000\n",
       "max       1.000000"
      ],
      "text/html": [
       "<div>\n",
       "<style scoped>\n",
       "    .dataframe tbody tr th:only-of-type {\n",
       "        vertical-align: middle;\n",
       "    }\n",
       "\n",
       "    .dataframe tbody tr th {\n",
       "        vertical-align: top;\n",
       "    }\n",
       "\n",
       "    .dataframe thead th {\n",
       "        text-align: right;\n",
       "    }\n",
       "</style>\n",
       "<table border=\"1\" class=\"dataframe\">\n",
       "  <thead>\n",
       "    <tr style=\"text-align: right;\">\n",
       "      <th></th>\n",
       "      <th>target</th>\n",
       "    </tr>\n",
       "  </thead>\n",
       "  <tbody>\n",
       "    <tr>\n",
       "      <th>count</th>\n",
       "      <td>5572.000000</td>\n",
       "    </tr>\n",
       "    <tr>\n",
       "      <th>mean</th>\n",
       "      <td>0.134063</td>\n",
       "    </tr>\n",
       "    <tr>\n",
       "      <th>std</th>\n",
       "      <td>0.340751</td>\n",
       "    </tr>\n",
       "    <tr>\n",
       "      <th>min</th>\n",
       "      <td>0.000000</td>\n",
       "    </tr>\n",
       "    <tr>\n",
       "      <th>25%</th>\n",
       "      <td>0.000000</td>\n",
       "    </tr>\n",
       "    <tr>\n",
       "      <th>50%</th>\n",
       "      <td>0.000000</td>\n",
       "    </tr>\n",
       "    <tr>\n",
       "      <th>75%</th>\n",
       "      <td>0.000000</td>\n",
       "    </tr>\n",
       "    <tr>\n",
       "      <th>max</th>\n",
       "      <td>1.000000</td>\n",
       "    </tr>\n",
       "  </tbody>\n",
       "</table>\n",
       "</div>"
      ]
     },
     "execution_count": 137,
     "metadata": {},
     "output_type": "execute_result"
    }
   ],
   "execution_count": 137
  },
  {
   "metadata": {
    "ExecuteTime": {
     "end_time": "2025-06-24T14:39:35.038329Z",
     "start_time": "2025-06-24T14:39:33.960426Z"
    }
   },
   "cell_type": "code",
   "source": [
    "min_df_values = [1, 2, 3, 4, 5, 6, 7, 8, 9, 10, 11, 12, 15, 20, 25, 30, 40, 50]\n",
    "scores_precision = []\n",
    "scores_recall = []\n",
    "\n",
    "for min_df in min_df_values:\n",
    "    countVectorizer = CountVectorizer(\n",
    "        binary=True,\n",
    "        stop_words='english',\n",
    "        min_df=min_df,\n",
    "        max_df=0.90\n",
    "    )\n",
    "\n",
    "    pipeline = Pipeline([\n",
    "        ('vectorizer', countVectorizer),\n",
    "        ('classifier', LogisticRegression())\n",
    "    ])\n",
    "\n",
    "    # stratify -> Verhältnis von spam/ham bleibt in etwa wie im gesamt-dataset\n",
    "    X_train, X_test, y_train, y_test = train_test_split(\n",
    "        data['text'],\n",
    "        data['target'],\n",
    "        test_size=0.15,\n",
    "        random_state=42,\n",
    "        stratify=data['target']\n",
    "    )\n",
    "\n",
    "    pipeline.fit(X_train, y_train)\n",
    "\n",
    "    score_precision = skm.precision_score(pipeline.predict(X_test), y_test)\n",
    "    score_recall = skm.recall_score(pipeline.predict(X_test), y_test)\n",
    "\n",
    "    scores_precision.append(score_precision)\n",
    "    scores_recall.append(score_recall)\n",
    "\n",
    "    # cross_val_score(estimator=pipeline, X=X_train, y=y_train, scoring='precision')"
   ],
   "id": "2673049ff2ac5a08",
   "outputs": [],
   "execution_count": 138
  },
  {
   "metadata": {
    "ExecuteTime": {
     "end_time": "2025-06-24T14:39:35.052112Z",
     "start_time": "2025-06-24T14:39:35.045006Z"
    }
   },
   "cell_type": "code",
   "source": [
    "scores_df = pd.DataFrame({\n",
    "    'min_df': min_df_values,\n",
    "    'scores_precision': scores_precision,\n",
    "    'scores_recall': scores_recall\n",
    "})\n",
    "\n",
    "scores_melted = scores_df.melt(id_vars='min_df', var_name='Metric', value_name='Score')"
   ],
   "id": "24eb202f5f62e72b",
   "outputs": [],
   "execution_count": 139
  },
  {
   "metadata": {
    "ExecuteTime": {
     "end_time": "2025-06-24T14:39:35.157037Z",
     "start_time": "2025-06-24T14:39:35.058738Z"
    }
   },
   "cell_type": "code",
   "source": [
    "plot = sns.lineplot(data=scores_melted, x='min_df', y='Score', hue='Metric', marker='o')\n",
    "\n",
    "plot.set_title(\"Vergleich der Scores\")\n",
    "plt.xlabel('min_df')\n",
    "plt.ylabel('scores')\n",
    "plt.grid(True)\n",
    "plt.show()"
   ],
   "id": "ed3037537e34ed95",
   "outputs": [
    {
     "data": {
      "text/plain": [
       "<Figure size 640x480 with 1 Axes>"
      ],
      "image/png": "[encoded data removed]"
     },
     "metadata": {},
     "output_type": "display_data"
    }
   ],
   "execution_count": 140
  },
  {
   "metadata": {
    "ExecuteTime": {
     "end_time": "2025-06-24T14:39:35.233108Z",
     "start_time": "2025-06-24T14:39:35.165890Z"
    }
   },
   "cell_type": "code",
   "source": "ConfusionMatrixDisplay.from_estimator(pipeline, X_test, y_test)",
   "id": "96fc66e57c0e9f51",
   "outputs": [
    {
     "data": {
      "text/plain": [
       "<sklearn.metrics._plot.confusion_matrix.ConfusionMatrixDisplay at 0x143ffa0c0>"
      ]
     },
     "execution_count": 141,
     "metadata": {},
     "output_type": "execute_result"
    },
    {
     "data": {
      "text/plain": [
       "<Figure size 640x480 with 2 Axes>"
      ],
      "image/png": "[encoded data removed]"
     },
     "metadata": {},
     "output_type": "display_data"
    }
   ],
   "execution_count": 141
  }
 ],
 "metadata": {
  "kernelspec": {
   "display_name": "Python 3",
   "language": "python",
   "name": "python3"
  },
  "language_info": {
   "codemirror_mode": {
    "name": "ipython",
    "version": 2
   },
   "file_extension": ".py",
   "mimetype": "text/x-python",
   "name": "python",
   "nbconvert_exporter": "python",
   "pygments_lexer": "ipython2",
   "version": "2.7.6"
  }
 },
 "nbformat": 4,
 "nbformat_minor": 5
}
