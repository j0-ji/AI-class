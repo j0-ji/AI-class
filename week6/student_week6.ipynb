{
 "cells": [
  {
   "metadata": {},
   "cell_type": "markdown",
   "source": [
    "## Aufgabe\n",
    "1) Logistische Regression - Spamklassifikation\n",
    "    - Führen Sie die Spamklassifikation der vorherigen Übung mit einer logistischen Regression durch.\n",
    "    - Erstellen Sie für die Auswertung eine ROC-Kurve.\n",
    "2) Klassifikation - SA-Subset\n",
    "    - Selektieren Sie nur Reihen mit den 3 häufigsten Labels aus dem SA-Subset (df = df[df['labels'].isin([b'normal.', b'smurf.', b'neptune.'])].copy()).\n",
    "    - Führen Sie eine Klassifikation dieser 3 Klassen durch und finden Sie den besten Parameter für min_freq."
   ],
   "id": "69a168575d83c68a"
  },
  {
   "metadata": {},
   "cell_type": "markdown",
   "source": "### Notizen",
   "id": "3bab02cd237e81d8"
  },
  {
   "metadata": {},
   "cell_type": "markdown",
   "source": [
    "#### Linear Regression\n",
    "1) Lineare Kombination der Features\n",
    "    - $z = w_{1}x_{1} + w_{2}x_{2} + \\ldots + w_{n}x_{n} + b$\n",
    "        - $w_{i}$: Gewichte\n",
    "        - $x_{i}$: Featurewerte\n",
    "        - $b$: Bias (auch $-\\Theta$)\n",
    "2) Anwendung der Sigmoid Funktion\n",
    "    - $\\hat{y}=\\sigma(z)=\\frac{1}{1+\\mathscr{e}^{-z}}$\n",
    "    - $\\hat{y}$ ist die vorhergesagte wahrscheinlichkeit, dass das Sample 1 ist"
   ],
   "id": "b3cbf33096739905"
  },
  {
   "metadata": {},
   "cell_type": "markdown",
   "source": [
    "#### Loss Function\n",
    "..."
   ],
   "id": "99d87f3462dd5045"
  },
  {
   "metadata": {},
   "cell_type": "markdown",
   "source": "### Aufgaben",
   "id": "80a3e5f39b5770ba"
  },
  {
   "metadata": {},
   "cell_type": "markdown",
   "source": "#### Imports",
   "id": "b863cb4a2e9d915a"
  },
  {
   "metadata": {
    "ExecuteTime": {
     "end_time": "2025-06-19T16:20:41.230492Z",
     "start_time": "2025-06-19T16:20:41.227307Z"
    }
   },
   "cell_type": "code",
   "source": [
    "import pandas as pd\n",
    "import numpy as np\n",
    "import matplotlib.pyplot as plt"
   ],
   "id": "3c2d9dbafe97e27f",
   "outputs": [],
   "execution_count": 5
  },
  {
   "metadata": {},
   "cell_type": "markdown",
   "source": "#### Aufgabe 1",
   "id": "e04c2b0353c83d17"
  },
  {
   "metadata": {},
   "cell_type": "markdown",
   "source": "##### Dataset",
   "id": "6a4e4eca0f6d2146"
  },
  {
   "metadata": {
    "ExecuteTime": {
     "end_time": "2025-06-19T16:20:41.385094Z",
     "start_time": "2025-06-19T16:20:41.240905Z"
    }
   },
   "cell_type": "code",
   "source": [
    "data = pd.read_csv(\n",
    "    'https://raw.githubusercontent.com/AiDevNepal/ai-saturdays-workshop-8/master/data/spam.csv'\n",
    ")\n",
    "data"
   ],
   "id": "8543ed193d5b4bad",
   "outputs": [
    {
     "data": {
      "text/plain": [
       "                                                   text target\n",
       "0     Go until jurong point, crazy.. Available only ...    ham\n",
       "1                         Ok lar... Joking wif u oni...    ham\n",
       "2     Free entry in 2 a wkly comp to win FA Cup fina...   spam\n",
       "3     U dun say so early hor... U c already then say...    ham\n",
       "4     Nah I don't think he goes to usf, he lives aro...    ham\n",
       "...                                                 ...    ...\n",
       "5567  This is the 2nd time we have tried 2 contact u...   spam\n",
       "5568              Will Ì_ b going to esplanade fr home?    ham\n",
       "5569  Pity, * was in mood for that. So...any other s...    ham\n",
       "5570  The guy did some bitching but I acted like i'd...    ham\n",
       "5571                         Rofl. Its true to its name    ham\n",
       "\n",
       "[5572 rows x 2 columns]"
      ],
      "text/html": [
       "<div>\n",
       "<style scoped>\n",
       "    .dataframe tbody tr th:only-of-type {\n",
       "        vertical-align: middle;\n",
       "    }\n",
       "\n",
       "    .dataframe tbody tr th {\n",
       "        vertical-align: top;\n",
       "    }\n",
       "\n",
       "    .dataframe thead th {\n",
       "        text-align: right;\n",
       "    }\n",
       "</style>\n",
       "<table border=\"1\" class=\"dataframe\">\n",
       "  <thead>\n",
       "    <tr style=\"text-align: right;\">\n",
       "      <th></th>\n",
       "      <th>text</th>\n",
       "      <th>target</th>\n",
       "    </tr>\n",
       "  </thead>\n",
       "  <tbody>\n",
       "    <tr>\n",
       "      <th>0</th>\n",
       "      <td>Go until jurong point, crazy.. Available only ...</td>\n",
       "      <td>ham</td>\n",
       "    </tr>\n",
       "    <tr>\n",
       "      <th>1</th>\n",
       "      <td>Ok lar... Joking wif u oni...</td>\n",
       "      <td>ham</td>\n",
       "    </tr>\n",
       "    <tr>\n",
       "      <th>2</th>\n",
       "      <td>Free entry in 2 a wkly comp to win FA Cup fina...</td>\n",
       "      <td>spam</td>\n",
       "    </tr>\n",
       "    <tr>\n",
       "      <th>3</th>\n",
       "      <td>U dun say so early hor... U c already then say...</td>\n",
       "      <td>ham</td>\n",
       "    </tr>\n",
       "    <tr>\n",
       "      <th>4</th>\n",
       "      <td>Nah I don't think he goes to usf, he lives aro...</td>\n",
       "      <td>ham</td>\n",
       "    </tr>\n",
       "    <tr>\n",
       "      <th>...</th>\n",
       "      <td>...</td>\n",
       "      <td>...</td>\n",
       "    </tr>\n",
       "    <tr>\n",
       "      <th>5567</th>\n",
       "      <td>This is the 2nd time we have tried 2 contact u...</td>\n",
       "      <td>spam</td>\n",
       "    </tr>\n",
       "    <tr>\n",
       "      <th>5568</th>\n",
       "      <td>Will Ì_ b going to esplanade fr home?</td>\n",
       "      <td>ham</td>\n",
       "    </tr>\n",
       "    <tr>\n",
       "      <th>5569</th>\n",
       "      <td>Pity, * was in mood for that. So...any other s...</td>\n",
       "      <td>ham</td>\n",
       "    </tr>\n",
       "    <tr>\n",
       "      <th>5570</th>\n",
       "      <td>The guy did some bitching but I acted like i'd...</td>\n",
       "      <td>ham</td>\n",
       "    </tr>\n",
       "    <tr>\n",
       "      <th>5571</th>\n",
       "      <td>Rofl. Its true to its name</td>\n",
       "      <td>ham</td>\n",
       "    </tr>\n",
       "  </tbody>\n",
       "</table>\n",
       "<p>5572 rows × 2 columns</p>\n",
       "</div>"
      ]
     },
     "execution_count": 6,
     "metadata": {},
     "output_type": "execute_result"
    }
   ],
   "execution_count": 6
  },
  {
   "metadata": {
    "ExecuteTime": {
     "end_time": "2025-06-19T16:20:45.803694Z",
     "start_time": "2025-06-19T16:20:45.799360Z"
    }
   },
   "cell_type": "code",
   "source": "data['target'].value_counts()",
   "id": "c8777d824a923225",
   "outputs": [
    {
     "data": {
      "text/plain": [
       "target\n",
       "ham     4825\n",
       "spam     747\n",
       "Name: count, dtype: int64"
      ]
     },
     "execution_count": 8,
     "metadata": {},
     "output_type": "execute_result"
    }
   ],
   "execution_count": 8
  },
  {
   "metadata": {
    "ExecuteTime": {
     "end_time": "2025-06-19T16:28:20.148407Z",
     "start_time": "2025-06-19T16:28:20.135808Z"
    }
   },
   "cell_type": "code",
   "source": "data.describe()",
   "id": "6aa449dd8938f4d8",
   "outputs": [
    {
     "data": {
      "text/plain": [
       "                          text target\n",
       "count                     5572   5572\n",
       "unique                    5169      2\n",
       "top     Sorry, I'll call later    ham\n",
       "freq                        30   4825"
      ],
      "text/html": [
       "<div>\n",
       "<style scoped>\n",
       "    .dataframe tbody tr th:only-of-type {\n",
       "        vertical-align: middle;\n",
       "    }\n",
       "\n",
       "    .dataframe tbody tr th {\n",
       "        vertical-align: top;\n",
       "    }\n",
       "\n",
       "    .dataframe thead th {\n",
       "        text-align: right;\n",
       "    }\n",
       "</style>\n",
       "<table border=\"1\" class=\"dataframe\">\n",
       "  <thead>\n",
       "    <tr style=\"text-align: right;\">\n",
       "      <th></th>\n",
       "      <th>text</th>\n",
       "      <th>target</th>\n",
       "    </tr>\n",
       "  </thead>\n",
       "  <tbody>\n",
       "    <tr>\n",
       "      <th>count</th>\n",
       "      <td>5572</td>\n",
       "      <td>5572</td>\n",
       "    </tr>\n",
       "    <tr>\n",
       "      <th>unique</th>\n",
       "      <td>5169</td>\n",
       "      <td>2</td>\n",
       "    </tr>\n",
       "    <tr>\n",
       "      <th>top</th>\n",
       "      <td>Sorry, I'll call later</td>\n",
       "      <td>ham</td>\n",
       "    </tr>\n",
       "    <tr>\n",
       "      <th>freq</th>\n",
       "      <td>30</td>\n",
       "      <td>4825</td>\n",
       "    </tr>\n",
       "  </tbody>\n",
       "</table>\n",
       "</div>"
      ]
     },
     "execution_count": 9,
     "metadata": {},
     "output_type": "execute_result"
    }
   ],
   "execution_count": 9
  },
  {
   "metadata": {
    "ExecuteTime": {
     "end_time": "2025-06-19T16:33:50.256284Z",
     "start_time": "2025-06-19T16:33:50.250723Z"
    }
   },
   "cell_type": "code",
   "source": "data.dtypes",
   "id": "b593a717c0622245",
   "outputs": [
    {
     "data": {
      "text/plain": [
       "text      object\n",
       "target    object\n",
       "dtype: object"
      ]
     },
     "execution_count": 10,
     "metadata": {},
     "output_type": "execute_result"
    }
   ],
   "execution_count": 10
  },
  {
   "metadata": {},
   "cell_type": "code",
   "outputs": [],
   "execution_count": null,
   "source": "",
   "id": "7ac2279c08c1cab"
  }
 ],
 "metadata": {
  "kernelspec": {
   "display_name": "Python 3",
   "language": "python",
   "name": "python3"
  },
  "language_info": {
   "codemirror_mode": {
    "name": "ipython",
    "version": 2
   },
   "file_extension": ".py",
   "mimetype": "text/x-python",
   "name": "python",
   "nbconvert_exporter": "python",
   "pygments_lexer": "ipython2",
   "version": "2.7.6"
  }
 },
 "nbformat": 4,
 "nbformat_minor": 5
}
