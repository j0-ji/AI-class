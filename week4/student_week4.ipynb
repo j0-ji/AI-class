{
 "cells": [
  {
   "metadata": {},
   "cell_type": "markdown",
   "source": [
    "## Aufgabe\n",
    "- Pipeline erstellen\n",
    "    + `CountVectorizer`\n",
    "    + Naive Bayes\n",
    "- es soll BernoulliNB genutzt werden\n",
    "- Kreuzvalidierung für optimale Werte beim `CountVectorizer`\n",
    "- zu Beachten: Train- und Testfehler für Precision oder Recall\n",
    "    + Begründete entscheidung für eine dieser Metriken\n"
   ],
   "id": "b4fda5cc73a9d072"
  },
  {
   "metadata": {},
   "cell_type": "markdown",
   "source": "### Begriffe",
   "id": "a9f32b6ca3568f8d"
  },
  {
   "metadata": {},
   "cell_type": "markdown",
   "source": [
    "#### Pipeline\n",
    "Ermöglciht einfacheres, sequenzielles ausführen von mehreren Schritten (z.B. Transformationen & Modelltraining).\n",
    "-> saubererer Code\n",
    "\n",
    "##### Beispiel:\n",
    "```Python\n",
    "from sklearn.pipeline import Pipeline\n",
    "\n",
    "pipeline = Pipeline([\n",
    "    # Schritte einfügen ...\n",
    "])\n",
    "```"
   ],
   "id": "2d5e8169fd677a7d"
  },
  {
   "metadata": {},
   "cell_type": "markdown",
   "source": [
    "#### CountVectorizer\n",
    "Wandelt Texte in numerische Vektoren um, indem er zählt, wie oft Wörter im Text vorkommen."
   ],
   "id": "9502e38cecbeec0"
  },
  {
   "metadata": {},
   "cell_type": "markdown",
   "source": [
    "#### BernoulliNB\n",
    "- ist ein Naive Bayes Klassifikator für **binäre Features**\n",
    "- `CountVectorizer(binary=True)` ermöglicht das Nutzen von BernoulliNB, da dann nur gecheckt wird, ob das Wort vorkommt oder nicht und nicht die Gesamtanzahl der Vorkommnisse"
   ],
   "id": "8feb36a9d107bb20"
  },
  {
   "metadata": {},
   "cell_type": "markdown",
   "source": [
    "#### Kreuzvalidierung (Cross-Validation)\n",
    "- Datensatz wird n Mal gesplittet und dann wird mit n-1 splits trainiert und dann an dem einen übrigen split getestet.\n",
    "- Es können verschiedene Scores getestet werden (z.B.: Accuracy, Precision, Recall, etc. ...)\n",
    "- siehe: `student_week2_wine.ipynb`"
   ],
   "id": "c86042d9952ff087"
  },
  {
   "metadata": {},
   "cell_type": "markdown",
   "source": [
    "#### Erläuterung: \"zu beachten: Train- und Testfehler für Precision oder Recall\"\n",
    "- bei der Kreuzvalidierung soll mit den Precision und Recall Metriken getestet werden\n",
    "- dann soll eine der zwei Metriken mit Begründung gewählt werden"
   ],
   "id": "71e88d373e13a101"
  },
  {
   "metadata": {},
   "cell_type": "markdown",
   "source": [
    "#### Scoring: 'precision' vs 'recall'\n",
    "Precision = TP/(TP+FP)\n",
    "\n",
    "Recall = TP/(TP+FN)\n",
    "\n",
    "Wenn eher Wert darauf gelegt wird, dass es möglichst wenige FP (False Positives) gibt, sollte man 'precision' nutzen. Umso besser der Score ist, umso weniger negative Einträge wurden als Positiv vorhergesagt (Spam als nicht-Spam eingeordnet)\n",
    "\n",
    "Wenn eher Wert darauf gelegt wird, dass es möglichst wenige FN (False Negatives) gibt, sollte man 'recall' nutzen. Umso besser der Score ist, umso weniger positive Einträge wurden als Negativ vorhergesagt (nicht-Spam als Spam eingeordnet)"
   ],
   "id": "9769248ab6937c3c"
  },
  {
   "metadata": {},
   "cell_type": "markdown",
   "source": "## Code",
   "id": "daff03b1039b4202"
  },
  {
   "metadata": {},
   "cell_type": "markdown",
   "source": "### Imports",
   "id": "9aae4aa24ea77b09"
  },
  {
   "metadata": {
    "ExecuteTime": {
     "end_time": "2025-06-18T18:05:17.790120Z",
     "start_time": "2025-06-18T18:05:17.786406Z"
    }
   },
   "cell_type": "code",
   "source": [
    "import pandas as pd\n",
    "import seaborn as sns\n",
    "import matplotlib.pyplot as plt\n",
    "from sklearn.naive_bayes import BernoulliNB\n",
    "from sklearn.pipeline import Pipeline\n",
    "from sklearn.feature_extraction.text import CountVectorizer\n",
    "from sklearn.model_selection import cross_val_score\n",
    "from sklearn.metrics import make_scorer, precision_score, recall_score"
   ],
   "id": "aabe7647c881fb30",
   "outputs": [],
   "execution_count": 327
  },
  {
   "metadata": {},
   "cell_type": "markdown",
   "source": "### Data",
   "id": "7aee1c9aa6fa24c5"
  },
  {
   "metadata": {
    "ExecuteTime": {
     "end_time": "2025-06-18T18:05:18.003417Z",
     "start_time": "2025-06-18T18:05:17.851195Z"
    }
   },
   "cell_type": "code",
   "source": [
    "data = pd.read_csv(\n",
    "    'https://raw.githubusercontent.com/AiDevNepal/ai-saturdays-workshop-8/master/data/spam.csv'\n",
    ")\n",
    "data"
   ],
   "id": "aca139181dd81978",
   "outputs": [
    {
     "data": {
      "text/plain": [
       "                                                   text target\n",
       "0     Go until jurong point, crazy.. Available only ...    ham\n",
       "1                         Ok lar... Joking wif u oni...    ham\n",
       "2     Free entry in 2 a wkly comp to win FA Cup fina...   spam\n",
       "3     U dun say so early hor... U c already then say...    ham\n",
       "4     Nah I don't think he goes to usf, he lives aro...    ham\n",
       "...                                                 ...    ...\n",
       "5567  This is the 2nd time we have tried 2 contact u...   spam\n",
       "5568              Will Ì_ b going to esplanade fr home?    ham\n",
       "5569  Pity, * was in mood for that. So...any other s...    ham\n",
       "5570  The guy did some bitching but I acted like i'd...    ham\n",
       "5571                         Rofl. Its true to its name    ham\n",
       "\n",
       "[5572 rows x 2 columns]"
      ],
      "text/html": [
       "<div>\n",
       "<style scoped>\n",
       "    .dataframe tbody tr th:only-of-type {\n",
       "        vertical-align: middle;\n",
       "    }\n",
       "\n",
       "    .dataframe tbody tr th {\n",
       "        vertical-align: top;\n",
       "    }\n",
       "\n",
       "    .dataframe thead th {\n",
       "        text-align: right;\n",
       "    }\n",
       "</style>\n",
       "<table border=\"1\" class=\"dataframe\">\n",
       "  <thead>\n",
       "    <tr style=\"text-align: right;\">\n",
       "      <th></th>\n",
       "      <th>text</th>\n",
       "      <th>target</th>\n",
       "    </tr>\n",
       "  </thead>\n",
       "  <tbody>\n",
       "    <tr>\n",
       "      <th>0</th>\n",
       "      <td>Go until jurong point, crazy.. Available only ...</td>\n",
       "      <td>ham</td>\n",
       "    </tr>\n",
       "    <tr>\n",
       "      <th>1</th>\n",
       "      <td>Ok lar... Joking wif u oni...</td>\n",
       "      <td>ham</td>\n",
       "    </tr>\n",
       "    <tr>\n",
       "      <th>2</th>\n",
       "      <td>Free entry in 2 a wkly comp to win FA Cup fina...</td>\n",
       "      <td>spam</td>\n",
       "    </tr>\n",
       "    <tr>\n",
       "      <th>3</th>\n",
       "      <td>U dun say so early hor... U c already then say...</td>\n",
       "      <td>ham</td>\n",
       "    </tr>\n",
       "    <tr>\n",
       "      <th>4</th>\n",
       "      <td>Nah I don't think he goes to usf, he lives aro...</td>\n",
       "      <td>ham</td>\n",
       "    </tr>\n",
       "    <tr>\n",
       "      <th>...</th>\n",
       "      <td>...</td>\n",
       "      <td>...</td>\n",
       "    </tr>\n",
       "    <tr>\n",
       "      <th>5567</th>\n",
       "      <td>This is the 2nd time we have tried 2 contact u...</td>\n",
       "      <td>spam</td>\n",
       "    </tr>\n",
       "    <tr>\n",
       "      <th>5568</th>\n",
       "      <td>Will Ì_ b going to esplanade fr home?</td>\n",
       "      <td>ham</td>\n",
       "    </tr>\n",
       "    <tr>\n",
       "      <th>5569</th>\n",
       "      <td>Pity, * was in mood for that. So...any other s...</td>\n",
       "      <td>ham</td>\n",
       "    </tr>\n",
       "    <tr>\n",
       "      <th>5570</th>\n",
       "      <td>The guy did some bitching but I acted like i'd...</td>\n",
       "      <td>ham</td>\n",
       "    </tr>\n",
       "    <tr>\n",
       "      <th>5571</th>\n",
       "      <td>Rofl. Its true to its name</td>\n",
       "      <td>ham</td>\n",
       "    </tr>\n",
       "  </tbody>\n",
       "</table>\n",
       "<p>5572 rows × 2 columns</p>\n",
       "</div>"
      ]
     },
     "execution_count": 328,
     "metadata": {},
     "output_type": "execute_result"
    }
   ],
   "execution_count": 328
  },
  {
   "metadata": {},
   "cell_type": "markdown",
   "source": "### Training",
   "id": "b1373ca4d94196c"
  },
  {
   "metadata": {
    "ExecuteTime": {
     "end_time": "2025-06-18T18:05:18.014599Z",
     "start_time": "2025-06-18T18:05:18.012164Z"
    }
   },
   "cell_type": "code",
   "source": [
    "countVectorizer = CountVectorizer(\n",
    "    binary=True,\n",
    "    stop_words='english',\n",
    "    min_df=0.005,\n",
    "    max_df=0.9\n",
    ")"
   ],
   "id": "c1ec02eefef46eec",
   "outputs": [],
   "execution_count": 329
  },
  {
   "metadata": {
    "ExecuteTime": {
     "end_time": "2025-06-18T18:05:18.022282Z",
     "start_time": "2025-06-18T18:05:18.020034Z"
    }
   },
   "cell_type": "code",
   "source": [
    "pipeline = Pipeline([\n",
    "    ('vectorizer', countVectorizer),\n",
    "    ('classifier', BernoulliNB()),\n",
    "])"
   ],
   "id": "b97b1bb7479363e0",
   "outputs": [],
   "execution_count": 330
  },
  {
   "metadata": {
    "ExecuteTime": {
     "end_time": "2025-06-18T18:05:18.027422Z",
     "start_time": "2025-06-18T18:05:18.024737Z"
    }
   },
   "cell_type": "code",
   "source": [
    "# Eigene \"scorer\" um nicht spam und ham in 1 und 0 übersetzen zu müssen\n",
    "precision_scorer = make_scorer(precision_score, pos_label=\"spam\")\n",
    "recall_scorer = make_scorer(recall_score, pos_label=\"spam\")"
   ],
   "id": "e88e3b2b511af02b",
   "outputs": [],
   "execution_count": 331
  },
  {
   "metadata": {
    "ExecuteTime": {
     "end_time": "2025-06-18T18:05:18.032721Z",
     "start_time": "2025-06-18T18:05:18.029941Z"
    }
   },
   "cell_type": "code",
   "source": [
    "# Anzahl an Splits:\n",
    "splits = 6\n",
    "\n",
    "# Dataframe shuffeln, damit nicht nur statische scores rauskommen\n",
    "shuffled_data = data.sample(frac=1).reset_index(drop=True)"
   ],
   "id": "ed7e35af43952931",
   "outputs": [],
   "execution_count": 332
  },
  {
   "metadata": {
    "ExecuteTime": {
     "end_time": "2025-06-18T18:05:18.229173Z",
     "start_time": "2025-06-18T18:05:18.037096Z"
    }
   },
   "cell_type": "code",
   "source": [
    "scoresPrecision = cross_val_score(pipeline, shuffled_data['text'], shuffled_data['target'], cv=splits, scoring=precision_scorer)\n",
    "scoresPrecision"
   ],
   "id": "9c1b1c1da938d488",
   "outputs": [
    {
     "data": {
      "text/plain": [
       "array([0.96551724, 0.95652174, 0.97297297, 0.95652174, 0.94444444,\n",
       "       0.98148148])"
      ]
     },
     "execution_count": 333,
     "metadata": {},
     "output_type": "execute_result"
    }
   ],
   "execution_count": 333
  },
  {
   "metadata": {
    "ExecuteTime": {
     "end_time": "2025-06-18T18:05:18.410990Z",
     "start_time": "2025-06-18T18:05:18.232432Z"
    }
   },
   "cell_type": "code",
   "source": [
    "scoresRecall = cross_val_score(pipeline, shuffled_data['text'], shuffled_data['target'], cv=splits, scoring=recall_scorer)\n",
    "scoresRecall"
   ],
   "id": "f5d8b4b8041c2416",
   "outputs": [
    {
     "data": {
      "text/plain": [
       "array([0.90322581, 0.88      , 0.864     , 0.88      , 0.82258065,\n",
       "       0.85483871])"
      ]
     },
     "execution_count": 334,
     "metadata": {},
     "output_type": "execute_result"
    }
   ],
   "execution_count": 334
  },
  {
   "metadata": {},
   "cell_type": "markdown",
   "source": "### Evaluation",
   "id": "6d80d0f8faad1e40"
  },
  {
   "metadata": {
    "ExecuteTime": {
     "end_time": "2025-06-18T18:05:18.463397Z",
     "start_time": "2025-06-18T18:05:18.413217Z"
    }
   },
   "cell_type": "code",
   "source": [
    "# Scores in Dataframe umwandeln\n",
    "scores_df = pd.DataFrame({\n",
    "    'Index': list(range(splits)),\n",
    "    'Precision': scoresPrecision,\n",
    "    'Recall': scoresRecall\n",
    "})\n",
    "\n",
    "# Dataframe in long Format bringen - sonst können nicht Precision & Recall gleichzeitig dargestellt werden...\n",
    "scores_melted = scores_df.melt(id_vars='Index', var_name='Metric', value_name='Score')\n",
    "\n",
    "plot = sns.lineplot(data=scores_melted, x='Index', y='Score', hue='Metric', marker='o')\n",
    "\n",
    "plot.set_title(\"Vergleich der Scores\")\n",
    "plt.xlabel('Index')\n",
    "plt.ylabel('Score')\n",
    "plt.grid(True)\n",
    "plt.show()"
   ],
   "id": "155acd765bdde9fc",
   "outputs": [
    {
     "data": {
      "text/plain": [
       "<Figure size 640x480 with 1 Axes>"
      ],
      "image/png": "[encoded data removed]"
     },
     "metadata": {},
     "output_type": "display_data"
    }
   ],
   "execution_count": 335
  },
  {
   "metadata": {},
   "cell_type": "markdown",
   "source": "Um ein Spamerkennungsmodel gut zu bewerten, würde ich 'recall' nutzen, da es in meinen Augen kritischer ist, wenn potentiell wichtige E-Mails als Spam eingeordnet werden, als Spam, der mal nicht korrekt als Spam erkannt wurde (was in diesem fall durch den 'precision'-Score gezeigt werden würde).",
   "id": "6c61026ed5923e54"
  }
 ],
 "metadata": {
  "kernelspec": {
   "display_name": "Python 3",
   "language": "python",
   "name": "python3"
  },
  "language_info": {
   "codemirror_mode": {
    "name": "ipython",
    "version": 2
   },
   "file_extension": ".py",
   "mimetype": "text/x-python",
   "name": "python",
   "nbconvert_exporter": "python",
   "pygments_lexer": "ipython2",
   "version": "2.7.6"
  }
 },
 "nbformat": 4,
 "nbformat_minor": 5
}
